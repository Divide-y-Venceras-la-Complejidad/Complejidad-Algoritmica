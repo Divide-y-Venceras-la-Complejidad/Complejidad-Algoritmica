{
  "nbformat": 4,
  "nbformat_minor": 0,
  "metadata": {
    "colab": {
      "provenance": [],
      "authorship_tag": "ABX9TyO+3ZY3jnYggQQFTOV8u2bh",
      "include_colab_link": true
    },
    "kernelspec": {
      "name": "python3",
      "display_name": "Python 3"
    },
    "language_info": {
      "name": "python"
    }
  },
  "cells": [
    {
      "cell_type": "markdown",
      "metadata": {
        "id": "view-in-github",
        "colab_type": "text"
      },
      "source": [
        "<a href=\"https://colab.research.google.com/github/Divide-y-Venceras-la-Complejidad/Complejidad-Algoritmica/blob/Semana1/Hoja_de_ejercicios_1.ipynb\" target=\"_parent\"><img src=\"https://colab.research.google.com/assets/colab-badge.svg\" alt=\"Open In Colab\"/></a>"
      ]
    },
    {
      "cell_type": "markdown",
      "source": [
        "#Ejercicio 1: Uso de arreglos"
      ],
      "metadata": {
        "id": "wMSAKBD4sab9"
      }
    },
    {
      "cell_type": "code",
      "source": [
        "import random"
      ],
      "metadata": {
        "id": "_iFO5dQft0T_"
      },
      "execution_count": null,
      "outputs": []
    },
    {
      "cell_type": "code",
      "source": [
        "def generateArray(n):\n",
        "  a = [random.randint(1, 100) for _ in range(n)]\n",
        "  print(a)"
      ],
      "metadata": {
        "id": "i05HMnaFskKB"
      },
      "execution_count": null,
      "outputs": []
    },
    {
      "cell_type": "code",
      "source": [
        "generateArray(50)"
      ],
      "metadata": {
        "colab": {
          "base_uri": "https://localhost:8080/"
        },
        "id": "BEv0-hdMuVFw",
        "outputId": "19722d58-c287-47eb-bea5-29a59608498e"
      },
      "execution_count": null,
      "outputs": [
        {
          "output_type": "stream",
          "name": "stdout",
          "text": [
            "[0, 1, 2, 3, 4, 5, 6, 7, 8, 9, 10, 11, 12, 13, 14, 15, 16, 17, 18, 19, 20, 21, 22, 23, 24, 25, 26, 27, 28, 29, 30, 31, 32, 33, 34, 35, 36, 37, 38, 39, 40, 41, 42, 43, 44, 45, 46, 47, 48, 49]\n"
          ]
        }
      ]
    },
    {
      "cell_type": "code",
      "source": [
        "def printArray(t):\n",
        "  print(t)"
      ],
      "metadata": {
        "id": "gHtEVDFsukrb"
      },
      "execution_count": null,
      "outputs": []
    },
    {
      "cell_type": "code",
      "source": [
        "a = [10, 20, 30]\n",
        "printArray(a)"
      ],
      "metadata": {
        "colab": {
          "base_uri": "https://localhost:8080/"
        },
        "id": "4TYjt44NvBmp",
        "outputId": "0f9b80af-a59e-4b02-8490-33a51d31ad1b"
      },
      "execution_count": null,
      "outputs": [
        {
          "output_type": "stream",
          "name": "stdout",
          "text": [
            "[10, 20, 30]\n"
          ]
        }
      ]
    },
    {
      "cell_type": "code",
      "source": [
        "def reverse(t):\n",
        "  print(t[::-1])"
      ],
      "metadata": {
        "id": "DvMjlFbcvPkD"
      },
      "execution_count": null,
      "outputs": []
    },
    {
      "cell_type": "code",
      "source": [
        "reverse([10, 20, 30, 40, 1, 2, 4])"
      ],
      "metadata": {
        "colab": {
          "base_uri": "https://localhost:8080/"
        },
        "id": "WA3aluHFvjbV",
        "outputId": "5c27d764-3894-4ef8-fc8a-e4336ab8be69"
      },
      "execution_count": null,
      "outputs": [
        {
          "output_type": "stream",
          "name": "stdout",
          "text": [
            "[4, 2, 1, 40, 30, 20, 10]\n"
          ]
        }
      ]
    },
    {
      "cell_type": "code",
      "source": [
        "def minArray(t2):\n",
        "  if len(t2) > 0:\n",
        "    if len(t2) == 1:\n",
        "      return t2[0]\n",
        "    else:\n",
        "      min = t2[0]\n",
        "      for i in range(1, len(t2)):\n",
        "        if(t2[i] < min):\n",
        "          min = t2[i]\n",
        "      return min\n",
        "  else:\n",
        "    return 'Arreglo vacio'"
      ],
      "metadata": {
        "id": "NuaNe4yNvvId"
      },
      "execution_count": null,
      "outputs": []
    },
    {
      "cell_type": "code",
      "source": [
        "lst = [1, 2, 3, 4, 5, 5, 4, 3, 2, 1, 1, 1, 1, 1, 1, 1, 1]"
      ],
      "metadata": {
        "id": "TQsOsK3Q2sqj"
      },
      "execution_count": null,
      "outputs": []
    },
    {
      "cell_type": "code",
      "source": [
        "def mediaArreglo(t2):\n",
        "  suma = 0\n",
        "  for i in t2:\n",
        "    suma += i\n",
        "  return suma/len(t2)\n",
        "\n",
        "mediaArreglo(lst)"
      ],
      "metadata": {
        "colab": {
          "base_uri": "https://localhost:8080/"
        },
        "id": "CnejUiuVJrmv",
        "outputId": "70715d39-33c9-4d3c-b97b-7298a5e6e3d6"
      },
      "execution_count": null,
      "outputs": [
        {
          "output_type": "execute_result",
          "data": {
            "text/plain": [
              "2.176470588235294"
            ]
          },
          "metadata": {},
          "execution_count": 89
        }
      ]
    },
    {
      "cell_type": "markdown",
      "source": [
        "Escriba un método int[] ocurrencias(int[] t) que devuelve un nuevo arreglo s tal que s[i] es el \n",
        "número de veces que el entero i aparece en t.\n"
      ],
      "metadata": {
        "id": "-rKR51_GNIp-"
      }
    },
    {
      "cell_type": "code",
      "source": [
        "def frequency(lst):\n",
        "  uniqueData = list(set(lst))\n",
        "  dic = {}\n",
        "  for i in uniqueData:\n",
        "    cont = 0\n",
        "    for item in lst:\n",
        "      if i == item:\n",
        "        cont += 1\n",
        "    dic[i] = cont\n",
        "\n",
        "  keys = list(dic.keys())\n",
        "  values = list(dic.values())\n",
        "\n",
        "  for j in range(0, len(keys), 1):\n",
        "    print(f\"Value {keys[j]} , aparece {values[j]} veces\")"
      ],
      "metadata": {
        "id": "aQpRk82zNGTz"
      },
      "execution_count": null,
      "outputs": []
    },
    {
      "cell_type": "code",
      "source": [
        "frequency(lst)"
      ],
      "metadata": {
        "colab": {
          "base_uri": "https://localhost:8080/"
        },
        "id": "PBzrHjN4RFDi",
        "outputId": "96e327af-c993-43b6-8234-73c33f3e0fd5"
      },
      "execution_count": null,
      "outputs": [
        {
          "output_type": "stream",
          "name": "stdout",
          "text": [
            "[1, 2, 3, 4, 5]\n",
            "[9, 2, 2, 2, 2]\n",
            "Value 1 , aparece 9 veces\n",
            "Value 2 , aparece 2 veces\n",
            "Value 3 , aparece 2 veces\n",
            "Value 4 , aparece 2 veces\n",
            "Value 5 , aparece 2 veces\n"
          ]
        }
      ]
    },
    {
      "cell_type": "markdown",
      "source": [
        "#Ejercicio 2: Uso de arreglos (2)"
      ],
      "metadata": {
        "id": "Mc-eoUeHdfdi"
      }
    },
    {
      "cell_type": "code",
      "source": [
        "arr = [random.randint(0, 20) for _ in range(100)]\n"
      ],
      "metadata": {
        "id": "4v4ypVA4VhEE",
        "colab": {
          "base_uri": "https://localhost:8080/"
        },
        "outputId": "e1fe43f9-55eb-4292-9ff1-8ea7ebd37cc4"
      },
      "execution_count": null,
      "outputs": [
        {
          "output_type": "stream",
          "name": "stdout",
          "text": [
            "[8, 15, 0, 18, 2, 14, 3, 18, 5, 7, 13, 13, 7, 0, 7, 14, 4, 14, 11, 0, 2, 16, 8, 7, 8, 0, 15, 6, 5, 12, 9, 19, 0, 12, 4, 20, 20, 19, 7, 13, 4, 15, 17, 0, 17, 8, 14, 11, 15, 2, 18, 20, 4, 20, 2, 14, 20, 10, 19, 1, 6, 2, 9, 12, 7, 17, 5, 4, 16, 10, 0, 7, 17, 11, 18, 11, 17, 16, 14, 12, 4, 6, 8, 4, 15, 6, 20, 6, 17, 14, 20, 3, 14, 2, 12, 20, 20, 1, 2, 12]\n"
          ]
        }
      ]
    },
    {
      "cell_type": "code",
      "source": [
        "for i in range(100):\n",
        "  arr[i] = i\n",
        "\n",
        "print(arr)"
      ],
      "metadata": {
        "colab": {
          "base_uri": "https://localhost:8080/"
        },
        "id": "Xjb4ZVpretLE",
        "outputId": "36bd904b-b3a0-48ca-cefb-5c3149385b69"
      },
      "execution_count": null,
      "outputs": [
        {
          "output_type": "stream",
          "name": "stdout",
          "text": [
            "[0, 1, 2, 3, 4, 5, 6, 7, 8, 9, 10, 11, 12, 13, 14, 15, 16, 17, 18, 19, 20, 21, 22, 23, 24, 25, 26, 27, 28, 29, 30, 31, 32, 33, 34, 35, 36, 37, 38, 39, 40, 41, 42, 43, 44, 45, 46, 47, 48, 49, 50, 51, 52, 53, 54, 55, 56, 57, 58, 59, 60, 61, 62, 63, 64, 65, 66, 67, 68, 69, 70, 71, 72, 73, 74, 75, 76, 77, 78, 79, 80, 81, 82, 83, 84, 85, 86, 87, 88, 89, 90, 91, 92, 93, 94, 95, 96, 97, 98, 99]\n"
          ]
        }
      ]
    },
    {
      "cell_type": "markdown",
      "source": [
        "##Analice la complejidad de este algoritmo\n",
        "for i in range(100): --> Se ejecuta 100 veces independientemente del valor de X\n",
        "\n",
        "  arr[i] = i\n",
        "\n",
        "print(arr) --> Se ejecuta 1 tiempo de asignación.\n",
        "\n",
        "El tiempo que demora el algoritmo está contabilizado y este es 101. Sin embargo en notación Big(O) este es O(n)"
      ],
      "metadata": {
        "id": "yRwdUMl7fAr_"
      }
    },
    {
      "cell_type": "markdown",
      "source": [
        "#Ejercicio 3: Sudoku\n",
        "Escriba u n programa que pide al usuario de entrar una grilla de sudoku completamente\n",
        "llena y verifique que esta grilla es correcta.\n",
        "¿Cuál es la complejidad de este método?\n"
      ],
      "metadata": {
        "id": "29Dthz8chAxV"
      }
    },
    {
      "cell_type": "code",
      "source": [
        "import numpy as np"
      ],
      "metadata": {
        "id": "HHuq2ok0e6WE"
      },
      "execution_count": null,
      "outputs": []
    },
    {
      "cell_type": "code",
      "source": [
        "#Pedir los datos de sudoku\n",
        "data = []\n",
        "print(\"Ingrese una grilla sudoku completamente llena\")\n",
        "data = input().split()"
      ],
      "metadata": {
        "colab": {
          "base_uri": "https://localhost:8080/"
        },
        "id": "vHa4o1zKw_2A",
        "outputId": "98b6b34c-5798-41c8-b37a-4bb0f78058b9"
      },
      "execution_count": null,
      "outputs": [
        {
          "output_type": "stream",
          "name": "stdout",
          "text": [
            "Ingrese una grilla sudoku completamente llena\n"
          ]
        }
      ]
    },
    {
      "cell_type": "code",
      "source": [
        "#Generar una sola lista\n",
        "array = []\n",
        "newData = []\n",
        "for i in range(len(data)):\n",
        "  array.append(data[i])\n",
        "  if (i+1)%9 == 0:\n",
        "    newData.append(array)\n",
        "    array = []"
      ],
      "metadata": {
        "colab": {
          "base_uri": "https://localhost:8080/"
        },
        "id": "ItXX0wcb-jiO",
        "outputId": "02f3ed8b-719a-446f-a93c-78f6d5a6cfa4"
      },
      "execution_count": null,
      "outputs": [
        {
          "output_type": "stream",
          "name": "stdout",
          "text": [
            "[[8, 9, 1, 2, 6, 1, 9, 5, 9], [3, 4, 2, 1, 6, 1, 3, 9, 4], [8, 6, 7, 4, 7, 2, 4, 5, 4], [8, 9, 3, 7, 5, 1, 7, 8, 2], [9, 7, 5, 2, 3, 8, 2, 2, 1], [4, 3, 2, 8, 6, 1, 2, 9, 7], [4, 6, 4, 1, 7, 9, 8, 5, 6], [7, 1, 3, 4, 5, 1, 8, 5, 8], [6, 6, 9, 3, 5, 1, 6, 1, 7]]\n"
          ]
        }
      ]
    },
    {
      "cell_type": "code",
      "source": [
        "#matrix = np.array(newData)\n",
        "matrix = np.array(\n",
        " [[4, 3, 5, 2, 6, 9, 7, 8, 1,],\n",
        "  [6, 8, 2, 5, 7, 1, 4, 9, 3,],\n",
        "  [1, 9, 7, 8, 3, 4, 5, 6, 2,],\n",
        "  [8, 2, 6, 1, 9, 5, 3, 4, 7,],\n",
        "  [3, 7, 4, 6, 8, 2, 9, 1, 5,],\n",
        "  [9, 5, 1, 7, 4, 3, 6, 2, 8,],\n",
        "  [5, 1, 9, 3, 2, 6, 8, 7, 4,],\n",
        "  [2, 4, 8, 9, 5, 7, 1, 3, 6,],\n",
        "  [7, 6, 3, 4, 1, 8, 2, 5, 9,]])\n"
      ],
      "metadata": {
        "id": "hlRi7orcJMQr"
      },
      "execution_count": null,
      "outputs": []
    },
    {
      "cell_type": "code",
      "source": [
        "def validList(lst):\n",
        "  for i in lst:\n",
        "    if lst.count(i) > 1 or i < 1 or i > 9:\n",
        "      return False\n",
        "  return True"
      ],
      "metadata": {
        "id": "EW_jbzLSex_s"
      },
      "execution_count": null,
      "outputs": []
    },
    {
      "cell_type": "code",
      "source": [
        "def validAllRowCol(matrix):\n",
        "  n = len(matrix)\n",
        "  for i in range(n):\n",
        "    row = list(matrix[i][_] for _ in range(n))\n",
        "    col = list(matrix[_][i] for _ in range(n))\n",
        "    if validList(row) and validList(col):\n",
        "      continue\n",
        "    return False\n",
        "  return True"
      ],
      "metadata": {
        "id": "zkr27uVrJrdW"
      },
      "execution_count": null,
      "outputs": []
    },
    {
      "cell_type": "code",
      "source": [
        "def validSquare(sudoku, row, col):\n",
        "  array = []\n",
        "  for i in range(row, 3 + row):\n",
        "    lst = list(sudoku[i][j] for j in range(col, 3 + col))\n",
        "    array += lst\n",
        "  if validList(array):\n",
        "    return True\n",
        "  return False"
      ],
      "metadata": {
        "id": "CwbtraBupF4O"
      },
      "execution_count": null,
      "outputs": []
    },
    {
      "cell_type": "code",
      "source": [
        "def validSudoku(matrix):\n",
        "  n = len(matrix)\n",
        "  if validAllRowCol(matrix):\n",
        "    for i in range(0, n, 3):\n",
        "      for j in range(0, n, 3):\n",
        "        if validSquare(matrix, i, j):\n",
        "          continue\n",
        "        return False\n",
        "    return True\n",
        "  return False\n",
        "    \n",
        "print(validSudoku(matrix))"
      ],
      "metadata": {
        "colab": {
          "base_uri": "https://localhost:8080/"
        },
        "id": "JgeLHQMXiH2L",
        "outputId": "864e0bc6-da13-4407-8c6b-a4b63714dafa"
      },
      "execution_count": null,
      "outputs": [
        {
          "output_type": "stream",
          "name": "stdout",
          "text": [
            "False\n"
          ]
        }
      ]
    },
    {
      "cell_type": "markdown",
      "source": [
        "#Ejercicio 4: Criba de Eratóstenes"
      ],
      "metadata": {
        "id": "BvtLBTTXa9Ak"
      }
    },
    {
      "cell_type": "code",
      "source": [
        "def validPrimo(number):\n",
        "  if number <= 1:\n",
        "    return False\n",
        "  elif number == 2:\n",
        "    return True\n",
        "  else:\n",
        "    for i in range(2, number, 1):\n",
        "      if number%i == 0:\n",
        "        return False\n",
        "    return True"
      ],
      "metadata": {
        "id": "pS3URT9X_PrG"
      },
      "execution_count": null,
      "outputs": []
    },
    {
      "cell_type": "code",
      "source": [
        "def criba(N):\n",
        "  if N > 1:\n",
        "    lst = [i+1 for i in range(N-1)]\n",
        "    array = []\n",
        "    for i in range(1, len(lst)):\n",
        "      if validPrimo(lst[i]):\n",
        "        array.append(lst[i])\n",
        "\n",
        "    print(f\"Primos: {array}\") \n",
        "    \n",
        "    "
      ],
      "metadata": {
        "id": "vFVzPtTgo2L6"
      },
      "execution_count": null,
      "outputs": []
    },
    {
      "cell_type": "code",
      "source": [
        "criba(10)"
      ],
      "metadata": {
        "id": "R1GtdykyUzNC",
        "colab": {
          "base_uri": "https://localhost:8080/"
        },
        "outputId": "904bd65f-1a03-4ab9-d475-3ef8f9115590"
      },
      "execution_count": null,
      "outputs": [
        {
          "output_type": "stream",
          "name": "stdout",
          "text": [
            "Primos: [2, 3, 5, 7]\n"
          ]
        }
      ]
    },
    {
      "cell_type": "code",
      "source": [
        "def criba2(N):\n",
        "  array = [i+1 for i in range(N)]\n",
        "  if N > 1:\n",
        "    primos = []\n",
        "    if N == 2:\n",
        "      return 2\n",
        "    else:\n",
        "    \n"
      ],
      "metadata": {
        "id": "DOOxyXljZXYS"
      },
      "execution_count": null,
      "outputs": []
    },
    {
      "cell_type": "code",
      "source": [
        "def eratostenes(N):\n",
        "  not_primos = []\n",
        "  primos = []\n",
        "  for i in range(2, N + 1):\n",
        "    if i not in not_primos:\n",
        "      primos.append(i)\n",
        "      for j in range(i*i, N+1, i):\n",
        "        not_primos.append(j)\n",
        "  print(primos)"
      ],
      "metadata": {
        "id": "GSTUF7Sp96I0"
      },
      "execution_count": null,
      "outputs": []
    },
    {
      "cell_type": "code",
      "source": [
        "eratostenes(100)"
      ],
      "metadata": {
        "colab": {
          "base_uri": "https://localhost:8080/"
        },
        "id": "oPMo8SLmYOUy",
        "outputId": "a3bb7777-db7d-42c0-8237-d48a4e21455d"
      },
      "execution_count": null,
      "outputs": [
        {
          "output_type": "stream",
          "name": "stdout",
          "text": [
            "[2, 3, 5, 7, 11, 13, 17, 19, 23, 29, 31, 37, 41, 43, 47, 53, 59, 61, 67, 71, 73, 79, 83, 89, 97]\n"
          ]
        }
      ]
    },
    {
      "cell_type": "code",
      "source": [
        "def sieve_of_eratosthenes(n):\n",
        "    # Create a boolean array \"prime[0..n]\" and initialize all entries it as true.\n",
        "    prime = [True for i in range(n+1)]\n",
        "    p = 2\n",
        "    while p**2 <= n:\n",
        "        # If prime[p] is not changed, then it is a prime\n",
        "        if prime[p] == True:\n",
        "            # Update all multiples of p\n",
        "            for i in range(p**2, n+1, p):\n",
        "                prime[i] = False\n",
        "        p += 1\n",
        "    # Return a list of all prime numbers less than or equal to n\n",
        "    primes = [p for p in range(2, n+1) if prime[p]]\n",
        "    return primes\n"
      ],
      "metadata": {
        "id": "0CTmgCfGo189"
      },
      "execution_count": 13,
      "outputs": []
    },
    {
      "cell_type": "code",
      "source": [
        "primes = sieve_of_eratosthenes(100)\n",
        "print(primes)"
      ],
      "metadata": {
        "colab": {
          "base_uri": "https://localhost:8080/"
        },
        "id": "3O_dkF9oo27A",
        "outputId": "858c6e80-bbf9-4b87-afbd-f30047271cc8"
      },
      "execution_count": 15,
      "outputs": [
        {
          "output_type": "stream",
          "name": "stdout",
          "text": [
            "[2, 3, 5, 7, 11, 13, 17, 19, 23, 29, 31, 37, 41, 43, 47, 53, 59, 61, 67, 71, 73, 79, 83, 89, 97]\n"
          ]
        }
      ]
    }
  ]
}