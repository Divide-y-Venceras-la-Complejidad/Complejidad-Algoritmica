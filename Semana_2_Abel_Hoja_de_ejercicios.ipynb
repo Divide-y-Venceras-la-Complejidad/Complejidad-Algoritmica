{
  "nbformat": 4,
  "nbformat_minor": 0,
  "metadata": {
    "colab": {
      "provenance": [],
      "authorship_tag": "ABX9TyOK6PZxwFu8a1n62IlKc4z/",
      "include_colab_link": true
    },
    "kernelspec": {
      "name": "python3",
      "display_name": "Python 3"
    },
    "language_info": {
      "name": "python"
    }
  },
  "cells": [
    {
      "cell_type": "markdown",
      "metadata": {
        "id": "view-in-github",
        "colab_type": "text"
      },
      "source": [
        "<a href=\"https://colab.research.google.com/github/Divide-y-Venceras-la-Complejidad/Complejidad-Algoritmica/blob/Semana-2/Semana_2_Abel_Hoja_de_ejercicios.ipynb\" target=\"_parent\"><img src=\"https://colab.research.google.com/assets/colab-badge.svg\" alt=\"Open In Colab\"/></a>"
      ]
    },
    {
      "cell_type": "markdown",
      "source": [
        "#Ejercicio 1: Bubble Sort\n",
        "Implemente el ordenamiento por burbuja (Bubble Sort), para un arreglo de entrada"
      ],
      "metadata": {
        "id": "DnH726Cvu7Yb"
      }
    },
    {
      "cell_type": "code",
      "source": [
        "import random"
      ],
      "metadata": {
        "id": "hgYOL3zIn0KE"
      },
      "execution_count": 5,
      "outputs": []
    },
    {
      "cell_type": "code",
      "execution_count": 6,
      "metadata": {
        "id": "UrPsvlm6uxQr"
      },
      "outputs": [],
      "source": [
        "def BubbleSort(array):\n",
        "  verify = False\n",
        "  while verify == False:\n",
        "    verify = True\n",
        "    for i in range(len(array)-1):\n",
        "      if array[i] > array[i+1]:\n",
        "        array[i], array[i+1] = array[i+1], array [i]\n",
        "        verify = False\n",
        "  return array"
      ]
    },
    {
      "cell_type": "code",
      "source": [
        "lst = [random.randint(0, 100) for _ in range(10)]\n",
        "BubbleSort(lst)"
      ],
      "metadata": {
        "colab": {
          "base_uri": "https://localhost:8080/"
        },
        "id": "romS0UzizBsz",
        "outputId": "9f0f6a1a-24f1-479d-e156-3fd2f688540f"
      },
      "execution_count": 8,
      "outputs": [
        {
          "output_type": "execute_result",
          "data": {
            "text/plain": [
              "[15, 21, 32, 35, 47, 49, 56, 56, 78, 93]"
            ]
          },
          "metadata": {},
          "execution_count": 8
        }
      ]
    },
    {
      "cell_type": "markdown",
      "source": [
        "#Ejercicio 2: Polinomios\n",
        "![image.png](data:image/png;base64,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)\n",
        "\n",
        "Diseñe un algoritmo de fuerza bruta para resolver este problema\n",
        "\n",
        "Determine su complejidad para el peor caso\n",
        "\n",
        "Si el algoritmo que Ud. diseño es O(n^2), entonces diseñe un nuevo algoritmo en tiempo lineal"
      ],
      "metadata": {
        "id": "YWSJmFqnzZ2u"
      }
    },
    {
      "cell_type": "code",
      "source": [],
      "metadata": {
        "id": "GFpiuyv1kXz9"
      },
      "execution_count": null,
      "outputs": []
    },
    {
      "cell_type": "markdown",
      "source": [
        "# Ejercicio 3: SEND + M O R E = M O N E Y\n",
        "Lea la descripción del problema de criptoaritmo.\n",
        "\n",
        "Describe el espacio de búsqueda de este problema.\n",
        "\n",
        "Diseñe un algoritmo de fuerza bruta para resolver este problema.\n",
        "\n",
        "Diseñe un algoritmo de backtracking p a r a resolver este problema"
      ],
      "metadata": {
        "id": "4pmo6yap4w6f"
      }
    },
    {
      "cell_type": "code",
      "source": [
        "import itertools"
      ],
      "metadata": {
        "id": "5Nyq1oNPzXF7"
      },
      "execution_count": null,
      "outputs": []
    },
    {
      "cell_type": "code",
      "source": [
        "def word2num(word, codex):\n",
        "  num = 0\n",
        "  for char in word:\n",
        "    num = num*10 + codex[char]\n",
        "  return num"
      ],
      "metadata": {
        "id": "PO6CyxkC6-fd"
      },
      "execution_count": null,
      "outputs": []
    },
    {
      "cell_type": "code",
      "source": [
        "def check(permutation, alphabet, items):\n",
        "  codex = {char:num for char, num in zip(alphabet, permutation)}\n",
        "  m = len(items)\n",
        "  nums = [word2num(word, codex) for word in items]\n",
        "  sum = 0\n",
        "  for i in range(m-1):\n",
        "    sum += nums[i]\n",
        "  if sum == nums[-1]:\n",
        "    print(codex, nums)"
      ],
      "metadata": {
        "id": "xk72-38y7LYY"
      },
      "execution_count": null,
      "outputs": []
    },
    {
      "cell_type": "code",
      "source": [
        "def solve(items):\n",
        "  alphabet = set(\"\".join(items))\n",
        "  n = len(alphabet)\n",
        "  if n > 10:\n",
        "    print(\"No se puede para mas de 10 letras distintas\")\n",
        "  \n",
        "  digits = [i for i in range(10)]\n",
        "  for permutation in itertools.permutations(digits, n):\n",
        "    check(permutation, alphabet, items)\n",
        "\n",
        "solve([\"SEND\", \"MORE\", \"MONEY\"])"
      ],
      "metadata": {
        "colab": {
          "base_uri": "https://localhost:8080/"
        },
        "id": "cgHVghqM57V6",
        "outputId": "cd9f8914-73bf-4995-8181-9a6bfe759d6f"
      },
      "execution_count": null,
      "outputs": [
        {
          "output_type": "stream",
          "name": "stdout",
          "text": [
            "{'S': 2, 'O': 3, 'N': 1, 'M': 0, 'R': 6, 'D': 7, 'E': 8, 'Y': 5} [2817, 368, 3185]\n",
            "{'S': 2, 'O': 3, 'N': 1, 'M': 0, 'R': 6, 'D': 9, 'E': 8, 'Y': 7} [2819, 368, 3187]\n",
            "{'S': 3, 'O': 4, 'N': 1, 'M': 0, 'R': 5, 'D': 9, 'E': 7, 'Y': 6} [3719, 457, 4176]\n",
            "{'S': 3, 'O': 4, 'N': 1, 'M': 0, 'R': 6, 'D': 2, 'E': 7, 'Y': 9} [3712, 467, 4179]\n",
            "{'S': 3, 'O': 4, 'N': 2, 'M': 0, 'R': 5, 'D': 9, 'E': 8, 'Y': 7} [3829, 458, 4287]\n",
            "{'S': 3, 'O': 4, 'N': 2, 'M': 0, 'R': 6, 'D': 1, 'E': 8, 'Y': 9} [3821, 468, 4289]\n",
            "{'S': 5, 'O': 6, 'N': 3, 'M': 0, 'R': 4, 'D': 1, 'E': 7, 'Y': 8} [5731, 647, 6378]\n",
            "{'S': 5, 'O': 6, 'N': 3, 'M': 0, 'R': 4, 'D': 2, 'E': 7, 'Y': 9} [5732, 647, 6379]\n",
            "{'S': 5, 'O': 6, 'N': 4, 'M': 0, 'R': 3, 'D': 9, 'E': 8, 'Y': 7} [5849, 638, 6487]\n",
            "{'S': 6, 'O': 7, 'N': 1, 'M': 0, 'R': 2, 'D': 9, 'E': 4, 'Y': 3} [6419, 724, 7143]\n",
            "{'S': 6, 'O': 7, 'N': 1, 'M': 0, 'R': 3, 'D': 5, 'E': 4, 'Y': 9} [6415, 734, 7149]\n",
            "{'S': 6, 'O': 7, 'N': 2, 'M': 0, 'R': 3, 'D': 4, 'E': 5, 'Y': 9} [6524, 735, 7259]\n",
            "{'S': 6, 'O': 7, 'N': 5, 'M': 0, 'R': 2, 'D': 3, 'E': 8, 'Y': 1} [6853, 728, 7581]\n",
            "{'S': 6, 'O': 7, 'N': 5, 'M': 0, 'R': 3, 'D': 1, 'E': 8, 'Y': 9} [6851, 738, 7589]\n",
            "{'S': 7, 'O': 8, 'N': 1, 'M': 0, 'R': 2, 'D': 6, 'E': 3, 'Y': 9} [7316, 823, 8139]\n",
            "{'S': 7, 'O': 8, 'N': 2, 'M': 0, 'R': 1, 'D': 9, 'E': 4, 'Y': 3} [7429, 814, 8243]\n",
            "{'S': 7, 'O': 8, 'N': 3, 'M': 0, 'R': 1, 'D': 9, 'E': 5, 'Y': 4} [7539, 815, 8354]\n",
            "{'S': 7, 'O': 8, 'N': 3, 'M': 0, 'R': 2, 'D': 1, 'E': 5, 'Y': 6} [7531, 825, 8356]\n",
            "{'S': 7, 'O': 8, 'N': 3, 'M': 0, 'R': 2, 'D': 4, 'E': 5, 'Y': 9} [7534, 825, 8359]\n",
            "{'S': 7, 'O': 8, 'N': 4, 'M': 0, 'R': 1, 'D': 9, 'E': 6, 'Y': 5} [7649, 816, 8465]\n",
            "{'S': 7, 'O': 8, 'N': 4, 'M': 0, 'R': 2, 'D': 3, 'E': 6, 'Y': 9} [7643, 826, 8469]\n",
            "{'S': 8, 'O': 9, 'N': 2, 'M': 0, 'R': 1, 'D': 4, 'E': 3, 'Y': 7} [8324, 913, 9237]\n",
            "{'S': 8, 'O': 9, 'N': 3, 'M': 0, 'R': 1, 'D': 2, 'E': 4, 'Y': 6} [8432, 914, 9346]\n",
            "{'S': 8, 'O': 9, 'N': 4, 'M': 0, 'R': 1, 'D': 2, 'E': 5, 'Y': 7} [8542, 915, 9457]\n",
            "{'S': 9, 'O': 0, 'N': 6, 'M': 1, 'R': 8, 'D': 7, 'E': 5, 'Y': 2} [9567, 1085, 10652]\n"
          ]
        }
      ]
    },
    {
      "cell_type": "code",
      "source": [
        "def genPerm(digits, permut, finalPermLen, alphabet, items):\n",
        "  if len(permut) == finalPermLen:\n",
        "    check(permut, alphabet, items)\n",
        "  else:\n",
        "    for i, d in enumerate(digits):\n",
        "      genPerm(digits[:i] + digits[i+1:], permut + [d], finalPermLen, alphabet, items)"
      ],
      "metadata": {
        "id": "xk2a0y_l_h4q"
      },
      "execution_count": null,
      "outputs": []
    },
    {
      "cell_type": "code",
      "source": [
        "def solve2(items):\n",
        "  alphabet = set(\"\".join(items))\n",
        "  genPerm([i for i in range(10)], [], len(alphabet), alphabet, items)"
      ],
      "metadata": {
        "id": "0B9mYlm8DxSr"
      },
      "execution_count": null,
      "outputs": []
    },
    {
      "cell_type": "code",
      "source": [
        "solve2([\"SEND\", \"MORE\", \"MONEY\"])"
      ],
      "metadata": {
        "colab": {
          "base_uri": "https://localhost:8080/"
        },
        "id": "kX_WW39wERjv",
        "outputId": "1bcd4cce-a3e9-44aa-802b-3b004322aeb3"
      },
      "execution_count": null,
      "outputs": [
        {
          "output_type": "stream",
          "name": "stdout",
          "text": [
            "{'S': 2, 'O': 3, 'N': 1, 'M': 0, 'R': 6, 'D': 7, 'E': 8, 'Y': 5} [2817, 368, 3185]\n",
            "{'S': 2, 'O': 3, 'N': 1, 'M': 0, 'R': 6, 'D': 9, 'E': 8, 'Y': 7} [2819, 368, 3187]\n",
            "{'S': 3, 'O': 4, 'N': 1, 'M': 0, 'R': 5, 'D': 9, 'E': 7, 'Y': 6} [3719, 457, 4176]\n",
            "{'S': 3, 'O': 4, 'N': 1, 'M': 0, 'R': 6, 'D': 2, 'E': 7, 'Y': 9} [3712, 467, 4179]\n",
            "{'S': 3, 'O': 4, 'N': 2, 'M': 0, 'R': 5, 'D': 9, 'E': 8, 'Y': 7} [3829, 458, 4287]\n",
            "{'S': 3, 'O': 4, 'N': 2, 'M': 0, 'R': 6, 'D': 1, 'E': 8, 'Y': 9} [3821, 468, 4289]\n",
            "{'S': 5, 'O': 6, 'N': 3, 'M': 0, 'R': 4, 'D': 1, 'E': 7, 'Y': 8} [5731, 647, 6378]\n",
            "{'S': 5, 'O': 6, 'N': 3, 'M': 0, 'R': 4, 'D': 2, 'E': 7, 'Y': 9} [5732, 647, 6379]\n",
            "{'S': 5, 'O': 6, 'N': 4, 'M': 0, 'R': 3, 'D': 9, 'E': 8, 'Y': 7} [5849, 638, 6487]\n",
            "{'S': 6, 'O': 7, 'N': 1, 'M': 0, 'R': 2, 'D': 9, 'E': 4, 'Y': 3} [6419, 724, 7143]\n",
            "{'S': 6, 'O': 7, 'N': 1, 'M': 0, 'R': 3, 'D': 5, 'E': 4, 'Y': 9} [6415, 734, 7149]\n",
            "{'S': 6, 'O': 7, 'N': 2, 'M': 0, 'R': 3, 'D': 4, 'E': 5, 'Y': 9} [6524, 735, 7259]\n",
            "{'S': 6, 'O': 7, 'N': 5, 'M': 0, 'R': 2, 'D': 3, 'E': 8, 'Y': 1} [6853, 728, 7581]\n",
            "{'S': 6, 'O': 7, 'N': 5, 'M': 0, 'R': 3, 'D': 1, 'E': 8, 'Y': 9} [6851, 738, 7589]\n",
            "{'S': 7, 'O': 8, 'N': 1, 'M': 0, 'R': 2, 'D': 6, 'E': 3, 'Y': 9} [7316, 823, 8139]\n",
            "{'S': 7, 'O': 8, 'N': 2, 'M': 0, 'R': 1, 'D': 9, 'E': 4, 'Y': 3} [7429, 814, 8243]\n",
            "{'S': 7, 'O': 8, 'N': 3, 'M': 0, 'R': 1, 'D': 9, 'E': 5, 'Y': 4} [7539, 815, 8354]\n",
            "{'S': 7, 'O': 8, 'N': 3, 'M': 0, 'R': 2, 'D': 1, 'E': 5, 'Y': 6} [7531, 825, 8356]\n",
            "{'S': 7, 'O': 8, 'N': 3, 'M': 0, 'R': 2, 'D': 4, 'E': 5, 'Y': 9} [7534, 825, 8359]\n",
            "{'S': 7, 'O': 8, 'N': 4, 'M': 0, 'R': 1, 'D': 9, 'E': 6, 'Y': 5} [7649, 816, 8465]\n",
            "{'S': 7, 'O': 8, 'N': 4, 'M': 0, 'R': 2, 'D': 3, 'E': 6, 'Y': 9} [7643, 826, 8469]\n",
            "{'S': 8, 'O': 9, 'N': 2, 'M': 0, 'R': 1, 'D': 4, 'E': 3, 'Y': 7} [8324, 913, 9237]\n",
            "{'S': 8, 'O': 9, 'N': 3, 'M': 0, 'R': 1, 'D': 2, 'E': 4, 'Y': 6} [8432, 914, 9346]\n",
            "{'S': 8, 'O': 9, 'N': 4, 'M': 0, 'R': 1, 'D': 2, 'E': 5, 'Y': 7} [8542, 915, 9457]\n",
            "{'S': 9, 'O': 0, 'N': 6, 'M': 1, 'R': 8, 'D': 7, 'E': 5, 'Y': 2} [9567, 1085, 10652]\n"
          ]
        }
      ]
    },
    {
      "cell_type": "markdown",
      "source": [
        "# Ejercicio 4: Problema del pastor (acertijo del lobo, la cabra y la col).\n",
        "Lea la descripción del problema del pastor.\n",
        "\n",
        "Describa el espacio de búsqueda de este problema.\n",
        "\n",
        "Diseñe un método de fuerza bruta para resolver este problema.\n",
        "\n",
        "Diseñe un método de backtracking para resolver este problema."
      ],
      "metadata": {
        "id": "fQFeVk0tH1L0"
      }
    },
    {
      "cell_type": "code",
      "source": [
        "Array = [\"LOBO\", \"CABRA\", \"COL\"]\n"
      ],
      "metadata": {
        "id": "2KjeIzMhH04h"
      },
      "execution_count": null,
      "outputs": []
    }
  ]
}