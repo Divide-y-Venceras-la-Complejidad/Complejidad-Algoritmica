{
  "nbformat": 4,
  "nbformat_minor": 0,
  "metadata": {
    "colab": {
      "provenance": [],
      "authorship_tag": "ABX9TyOTfyJMgfGwziovXTgxUSRb",
      "include_colab_link": true
    },
    "kernelspec": {
      "name": "python3",
      "display_name": "Python 3"
    },
    "language_info": {
      "name": "python"
    }
  },
  "cells": [
    {
      "cell_type": "markdown",
      "metadata": {
        "id": "view-in-github",
        "colab_type": "text"
      },
      "source": [
        "<a href=\"https://colab.research.google.com/github/Divide-y-Venceras-la-Complejidad/Complejidad-Algoritmica/blob/semana-3/Practica_Para_Examen_Parcial.ipynb\" target=\"_parent\"><img src=\"https://colab.research.google.com/assets/colab-badge.svg\" alt=\"Open In Colab\"/></a>"
      ]
    },
    {
      "cell_type": "markdown",
      "source": [
        "#**PREGUNTA #1 (5 puntos)**\n",
        "Varias ciudades están conectadas por una red de carreteras. Cada carretera es bidireccional\n",
        "y conecta dos ciudades, con un tiempo de viaje determinado. ¿Cuál es el tiempo más corto\n",
        "para llegar de una ciudad dada a otra ciudad dada?\n",
        "• Cree un algoritmo que tomando los valores del INPUT genere el resultado que se\n",
        "visualice en el OUTPUT (ver ejemplo)\n",
        "• Señale que algoritmo o técnica ha utilizado para resolver el problema\n",
        "\n",
        "\n",
        "**INPUT**\n",
        "\n",
        "\n",
        "La primera línea de entrada contiene el número de casos de prueba.\n",
        "Cada caso de prueba comienza con una línea que contiene el número de ciudades n (2 ≤ n ≤\n",
        "100000), el número de carreteras m (1 ≤ m ≤ 100000), la ciudad inicial y la ciudad final. Las\n",
        "ciudades están numeradas del 1 al n.\n",
        "Luego siguen m líneas, cada una describiendo una carretera. La descripción consiste en los\n",
        "dos números de ciudad distintos y el tiempo en minutos para viajar a lo largo de la\n",
        "carretera. El tiempo será entre 1 y 1000.\n",
        "\n",
        "\n",
        "**OUTPUT**\n",
        "\n",
        "\n",
        "Para cada caso de prueba, genere una sola línea que contenga el tiempo mínimo que se\n",
        "tarda en llegar desde el inicio hasta el destino. Si no existe ninguna conexión,\n",
        "salida NINGUNO.\n",
        "Ejemplo:\n",
        "**Input:**\n",
        "\n",
        "\n",
        "2\n",
        "\n",
        "\n",
        "4 2 1 4\n",
        "\n",
        "\n",
        "1 2 5\n",
        "\n",
        "\n",
        "3 4 5\n",
        "\n",
        "\n",
        "4 4 1 4\n",
        "\n",
        "\n",
        "1 2 5\n",
        "\n",
        "\n",
        "2 3 5\n",
        "\n",
        "\n",
        "3 4 5\n",
        "\n",
        "\n",
        "4 2 6\n",
        "\n",
        "\n",
        "**Output:**\n",
        "\n",
        "\n",
        "NINGUNO\n",
        "\n",
        "\n",
        "11"
      ],
      "metadata": {
        "id": "MI9jxWtnW3DW"
      }
    },
    {
      "cell_type": "markdown",
      "source": [
        "##Solución"
      ],
      "metadata": {
        "id": "mFx8NArkZOmD"
      }
    },
    {
      "cell_type": "markdown",
      "source": [
        "###Algoritmo elegido\n",
        "Dado que nos piden hallar el tiempo más corto para llegar de una ciudad a otra, el algoritmo elegido es Djisktra. Puesto que con esoo se recorrera las ciudades conectadas para detetrminar el tiempo más corto para llegar de una ciudad a otra."
      ],
      "metadata": {
        "id": "fYly_OeiZSNh"
      }
    },
    {
      "cell_type": "code",
      "source": [
        "%%file input.csv\n",
        "2\n",
        "4 2 1 4\n",
        "1 2 5\n",
        "3 4 5\n",
        "4 4 1 4\n",
        "1 2 5\n",
        "2 3 5\n",
        "3 4 5\n",
        "4 2 6"
      ],
      "metadata": {
        "colab": {
          "base_uri": "https://localhost:8080/"
        },
        "id": "zcSE-YlXYfgM",
        "outputId": "e7385bdf-ae57-4bab-968e-0cf7d05dd137"
      },
      "execution_count": null,
      "outputs": [
        {
          "output_type": "stream",
          "name": "stdout",
          "text": [
            "Overwriting input.csv\n"
          ]
        }
      ]
    },
    {
      "cell_type": "code",
      "source": [
        "import heapq as hq"
      ],
      "metadata": {
        "id": "gXh4b-bSkIRs"
      },
      "execution_count": null,
      "outputs": []
    },
    {
      "cell_type": "code",
      "source": [
        "def dijkstra(G, s, e):\n",
        "  pq = [(0, s)]\n",
        "  visited = set()\n",
        "  while pq:\n",
        "    cost, current = hq.heappop(pq)\n",
        "    if current in visited:\n",
        "      continue\n",
        "    visited.add(current)\n",
        "    if current == e:\n",
        "      return cost\n",
        "    for n, w in G[current].items():\n",
        "      hq.heappush(pq, (cost + w, n))\n",
        "  return None"
      ],
      "metadata": {
        "id": "qGKUgwOrsbte"
      },
      "execution_count": null,
      "outputs": []
    },
    {
      "cell_type": "code",
      "source": [
        "data = []\n",
        "with open(\"input.csv\") as f:\n",
        "  for line in f:\n",
        "    data.append(line)\n",
        "\n",
        "a = map(int, data[1].split(\" \"))\n"
      ],
      "metadata": {
        "id": "EfVDPKUzSiCf"
      },
      "execution_count": null,
      "outputs": []
    },
    {
      "cell_type": "code",
      "source": [
        "row = 0\n",
        "for _ in range(int(data[row])):\n",
        "  row += 1\n",
        "  n, m, start, end = map(int, data[row].split(\" \"))\n",
        "  graph = {i: {} for i in range(1, n +1)}\n",
        "  for _ in range(m):\n",
        "    row += 1\n",
        "    a, b, w = map(int, data[row].split(\" \"))\n",
        "    graph[a][b] = w\n",
        "    graph[b][a] = w\n",
        "  result = dijkstra(graph, start, end)\n",
        "  if result is None:\n",
        "    print(\"NINGUNO\")\n",
        "  else:\n",
        "    print(result)"
      ],
      "metadata": {
        "colab": {
          "base_uri": "https://localhost:8080/"
        },
        "id": "PW0n8Nl6wJuW",
        "outputId": "fabdee81-4589-4802-8f12-3e274e626ce3"
      },
      "execution_count": null,
      "outputs": [
        {
          "output_type": "stream",
          "name": "stdout",
          "text": [
            "NINGUNO\n",
            "11\n"
          ]
        }
      ]
    }
  ]
}