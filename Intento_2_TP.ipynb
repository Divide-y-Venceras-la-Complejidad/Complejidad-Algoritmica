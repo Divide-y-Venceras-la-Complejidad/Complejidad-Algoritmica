{
  "nbformat": 4,
  "nbformat_minor": 0,
  "metadata": {
    "colab": {
      "provenance": [],
      "include_colab_link": true
    },
    "kernelspec": {
      "name": "python3",
      "display_name": "Python 3"
    },
    "language_info": {
      "name": "python"
    }
  },
  "cells": [
    {
      "cell_type": "markdown",
      "metadata": {
        "id": "view-in-github",
        "colab_type": "text"
      },
      "source": [
        "<a href=\"https://colab.research.google.com/github/Divide-y-Venceras-la-Complejidad/Complejidad-Algoritmica/blob/trabajo-parcial/Intento_2_TP.ipynb\" target=\"_parent\"><img src=\"https://colab.research.google.com/assets/colab-badge.svg\" alt=\"Open In Colab\"/></a>"
      ]
    },
    {
      "cell_type": "markdown",
      "source": [
        "Ponderación = Genero + artista + bailabilidad + energia de la musica + "
      ],
      "metadata": {
        "id": "H1coQj0EAIPs"
      }
    },
    {
      "cell_type": "code",
      "execution_count": 1,
      "metadata": {
        "colab": {
          "base_uri": "https://localhost:8080/"
        },
        "id": "m1TwweqTAGJj",
        "outputId": "d2be9b9b-4917-4c90-e41e-b930d74891ea"
      },
      "outputs": [
        {
          "output_type": "stream",
          "name": "stdout",
          "text": [
            "Writing dataset.csv\n"
          ]
        }
      ],
      "source": [
        "%%file dataset.csv\n",
        "id, name, genero, artista,  topico, año\n",
        "1, Lala, Regeton, MyKeTowers, verano, 2023\n",
        "2, Adan y Eva, Urbano, Paulo Londra, Tristeza, 2020 \n",
        "3, Necesito otro beso, Pop, Rosalia, Trizteza, 2023\n",
        "4, Todo de ti, Urbano, Pop, Alegria, 2022\n",
        "5, Caprichoso, Urbano, Pop, Tristeza, 2023\n",
        "6, TQG, Trap, Karol G, Despecho, 2023\n",
        "7, Chulo, Urbano, Bad Bunny, Despecho, 2023\n",
        "8, Charapita, Cumbia, Los Yenis, Tristeza, 2007\n",
        "9, El idiota, Cumbia, Principe Acollino, Tristeza, 2009\n",
        "10, Detective, Regeton, MykeTowers, verano, 2019"
      ]
    },
    {
      "cell_type": "code",
      "source": [],
      "metadata": {
        "id": "T88jKDRZcUtA"
      },
      "execution_count": null,
      "outputs": []
    },
    {
      "cell_type": "code",
      "source": [
        "class Music:\n",
        "  def __init__(self, id, name, genero, artista, topico, year):\n",
        "    self.id = id\n",
        "    self.name = name\n",
        "    self.genero = genero\n",
        "    self.artista = artista\n",
        "    self.topico = topico\n",
        "    self.year = year"
      ],
      "metadata": {
        "id": "8YWePrt9viLN"
      },
      "execution_count": 2,
      "outputs": []
    },
    {
      "cell_type": "code",
      "source": [
        "lst = []\n",
        "with open(\"datasettp21datos.csv\") as f:\n",
        "  line1 = f.readline()\n",
        "  for line in f:\n",
        "    line = line.split(\";\")\n",
        "    music = Music(line[0], line[1], line[2], line[3], line[4], line[5])\n",
        "    lst.append(music)"
      ],
      "metadata": {
        "id": "8WsoaZ1Y2mR0"
      },
      "execution_count": 39,
      "outputs": []
    },
    {
      "cell_type": "code",
      "source": [
        "for i in lst:\n",
        "  print(i.year)"
      ],
      "metadata": {
        "id": "qPMGbxgS7Ozd"
      },
      "execution_count": null,
      "outputs": []
    },
    {
      "cell_type": "code",
      "source": [
        "arch = open(\"matriz.txt\", \"w\")\n",
        " \n",
        "\n",
        "for i in lst:\n",
        "  for j in lst:\n",
        "    point = 0\n",
        "    ge = 0 \n",
        "    to = 0 \n",
        "    ar = 0 \n",
        "    anio = 0 \n",
        "    if i.id != j.id: \n",
        "      if i.genero == j.genero:\n",
        "        ge = 1*0.60\n",
        "        anio = (int(i.year)*(1/int(j.year)))*0.05\n",
        "      if i.topico == j.topico:\n",
        "        to = 1*0.20\n",
        "      if i.artista == j.artista:\n",
        "        ar = 1*0.15\n",
        "      if ge + to == 0:\n",
        "        anio = 0\n",
        "    point = round(ge + to + ar + anio, 4)\n",
        "    arch.write(f\"{point} \")\n",
        "  arch.write(\"\\n\")\n",
        "arch.close()"
      ],
      "metadata": {
        "id": "ixJ6BIcQHyf9"
      },
      "execution_count": 41,
      "outputs": []
    },
    {
      "cell_type": "code",
      "source": [
        "with open(\"matriz.txt\") as fil:\n",
        "  for line in fil:\n",
        "    print(line)"
      ],
      "metadata": {
        "colab": {
          "base_uri": "https://localhost:8080/"
        },
        "id": "MIJ0OChSLf-K",
        "outputId": "e31e77d4-a24d-4c44-b4d4-cff159f09513"
      },
      "execution_count": 42,
      "outputs": [
        {
          "output_type": "stream",
          "name": "stdout",
          "text": [
            "0 0.65 0.65 0 0 0 0 0 0 0.2 0 0 0 0 0 0.2 0 0 0 0 0 \n",
            "\n",
            "0.65 0 0.65 0 0 0 0 0 0 0 0 0 0 0 0.2 0 0 0.15 0 0 0 \n",
            "\n",
            "0.65 0.65 0 0 0.2 0 0 0.2 0 0 0 0.2 0 0 0 0 0 0.2 0.2 0 0 \n",
            "\n",
            "0 0 0 0 0.8 1.0 0 0 0 0 0 0 0 0 0 0 0 0 0 0 0 \n",
            "\n",
            "0 0 0.2 0.8 0 0.8 0 0.2 0 0 0 0.2 0 0 0 0 0 0.2 0.2 0 0 \n",
            "\n",
            "0 0 0 1.0 0.8 0 0 0 0 0 0 0 0 0 0 0 0 0 0 0 0 \n",
            "\n",
            "0 0 0 0 0 0 0 0.65 0.85 0 0 0 0.2 0 0 0 0.2 0 0 0.2 0.2 \n",
            "\n",
            "0 0 0.2 0 0.2 0 0.65 0 0.8 0 0 0.2 0 0 0 0 0 0.2 0.2 0 0 \n",
            "\n",
            "0 0 0 0 0 0 0.85 0.8 0 0 0 0 0.2 0 0 0 0.2 0 0 0.2 0.2 \n",
            "\n",
            "0.2 0 0 0 0 0 0 0 0 0 0.8 0.65 0 0 0 0.2 0 0 0 0 0 \n",
            "\n",
            "0 0 0 0 0 0 0 0 0 0.8 0 0.65 0 0.2 0 0 0 0 0 0 0 \n",
            "\n",
            "0 0 0.2 0 0.2 0 0 0.2 0 0.65 0.65 0 0 0 0 0 0 0.2 0.2 0 0 \n",
            "\n",
            "0 0 0 0 0 0 0.2 0 0.2 0 0 0 0 0.8 0.65 0 0.2 0 0 0.2 0.2 \n",
            "\n",
            "0 0 0 0 0 0 0 0 0 0 0.2 0 0.8 0 0.65 0 0 0 0 0 0 \n",
            "\n",
            "0 0.2 0 0 0 0 0 0 0 0 0 0 0.65 0.65 0 0 0 0 0 0 0 \n",
            "\n",
            "0.2 0 0 0 0 0 0 0 0 0.2 0 0 0 0 0 0 0.8 0.65 0 0 0 \n",
            "\n",
            "0 0 0 0 0 0 0.2 0 0.2 0 0 0 0.2 0 0 0.8 0 0.65 0 0.2 0.2 \n",
            "\n",
            "0 0.15 0.2 0 0.2 0 0 0.2 0 0 0 0.2 0 0 0 0.65 0.65 0 0.2 0 0 \n",
            "\n",
            "0 0 0.2 0 0.2 0 0 0.2 0 0 0 0.2 0 0 0 0 0 0.2 0 0.8 0.8 \n",
            "\n",
            "0 0 0 0 0 0 0.2 0 0.2 0 0 0 0.2 0 0 0 0.2 0 0.8 0 1.0 \n",
            "\n",
            "0 0 0 0 0 0 0.2 0 0.2 0 0 0 0.2 0 0 0 0.2 0 0.8 1.0 0 \n",
            "\n"
          ]
        }
      ]
    },
    {
      "cell_type": "code",
      "source": [
        "import heapq as hq\n",
        "import numpy as np\n",
        "import graphviz as gv\n",
        "import math"
      ],
      "metadata": {
        "id": "NwmGUS9qkqEC"
      },
      "execution_count": 43,
      "outputs": []
    },
    {
      "cell_type": "code",
      "source": [
        "def dijkstra(G, s):\n",
        "  n = len(G)\n",
        "  visited = [False]*n\n",
        "  path = [-1]*n\n",
        "  cost = [math.inf]*n\n",
        "\n",
        "  cost[s] = 0\n",
        "  pqueue = [(0, s)]\n",
        "  while pqueue:\n",
        "    g, u = hq.heappop(pqueue)\n",
        "    if not visited[u]:\n",
        "      visited[u] = True\n",
        "      for v in range(n):\n",
        "        if G[u, v] > 0 and not visited[v]:\n",
        "          f = g + G[u, v]\n",
        "          if f < cost[v]:\n",
        "            cost[v] = f\n",
        "            path[v] = u\n",
        "            hq.heappush(pqueue, (f, v))\n",
        "\n",
        "  return path, cost"
      ],
      "metadata": {
        "id": "iZmewvtrkuWD"
      },
      "execution_count": 44,
      "outputs": []
    },
    {
      "cell_type": "code",
      "source": [
        "G = np.loadtxt(\"matriz.txt\")\n",
        "print(G)"
      ],
      "metadata": {
        "colab": {
          "base_uri": "https://localhost:8080/"
        },
        "id": "XzKQV-whkzDp",
        "outputId": "602eb426-bfe8-442a-fc82-5ce9389c7931"
      },
      "execution_count": 45,
      "outputs": [
        {
          "output_type": "stream",
          "name": "stdout",
          "text": [
            "[[0.   0.65 0.65 0.   0.   0.   0.   0.   0.   0.2  0.   0.   0.   0.\n",
            "  0.   0.2  0.   0.   0.   0.   0.  ]\n",
            " [0.65 0.   0.65 0.   0.   0.   0.   0.   0.   0.   0.   0.   0.   0.\n",
            "  0.2  0.   0.   0.15 0.   0.   0.  ]\n",
            " [0.65 0.65 0.   0.   0.2  0.   0.   0.2  0.   0.   0.   0.2  0.   0.\n",
            "  0.   0.   0.   0.2  0.2  0.   0.  ]\n",
            " [0.   0.   0.   0.   0.8  1.   0.   0.   0.   0.   0.   0.   0.   0.\n",
            "  0.   0.   0.   0.   0.   0.   0.  ]\n",
            " [0.   0.   0.2  0.8  0.   0.8  0.   0.2  0.   0.   0.   0.2  0.   0.\n",
            "  0.   0.   0.   0.2  0.2  0.   0.  ]\n",
            " [0.   0.   0.   1.   0.8  0.   0.   0.   0.   0.   0.   0.   0.   0.\n",
            "  0.   0.   0.   0.   0.   0.   0.  ]\n",
            " [0.   0.   0.   0.   0.   0.   0.   0.65 0.85 0.   0.   0.   0.2  0.\n",
            "  0.   0.   0.2  0.   0.   0.2  0.2 ]\n",
            " [0.   0.   0.2  0.   0.2  0.   0.65 0.   0.8  0.   0.   0.2  0.   0.\n",
            "  0.   0.   0.   0.2  0.2  0.   0.  ]\n",
            " [0.   0.   0.   0.   0.   0.   0.85 0.8  0.   0.   0.   0.   0.2  0.\n",
            "  0.   0.   0.2  0.   0.   0.2  0.2 ]\n",
            " [0.2  0.   0.   0.   0.   0.   0.   0.   0.   0.   0.8  0.65 0.   0.\n",
            "  0.   0.2  0.   0.   0.   0.   0.  ]\n",
            " [0.   0.   0.   0.   0.   0.   0.   0.   0.   0.8  0.   0.65 0.   0.2\n",
            "  0.   0.   0.   0.   0.   0.   0.  ]\n",
            " [0.   0.   0.2  0.   0.2  0.   0.   0.2  0.   0.65 0.65 0.   0.   0.\n",
            "  0.   0.   0.   0.2  0.2  0.   0.  ]\n",
            " [0.   0.   0.   0.   0.   0.   0.2  0.   0.2  0.   0.   0.   0.   0.8\n",
            "  0.65 0.   0.2  0.   0.   0.2  0.2 ]\n",
            " [0.   0.   0.   0.   0.   0.   0.   0.   0.   0.   0.2  0.   0.8  0.\n",
            "  0.65 0.   0.   0.   0.   0.   0.  ]\n",
            " [0.   0.2  0.   0.   0.   0.   0.   0.   0.   0.   0.   0.   0.65 0.65\n",
            "  0.   0.   0.   0.   0.   0.   0.  ]\n",
            " [0.2  0.   0.   0.   0.   0.   0.   0.   0.   0.2  0.   0.   0.   0.\n",
            "  0.   0.   0.8  0.65 0.   0.   0.  ]\n",
            " [0.   0.   0.   0.   0.   0.   0.2  0.   0.2  0.   0.   0.   0.2  0.\n",
            "  0.   0.8  0.   0.65 0.   0.2  0.2 ]\n",
            " [0.   0.15 0.2  0.   0.2  0.   0.   0.2  0.   0.   0.   0.2  0.   0.\n",
            "  0.   0.65 0.65 0.   0.2  0.   0.  ]\n",
            " [0.   0.   0.2  0.   0.2  0.   0.   0.2  0.   0.   0.   0.2  0.   0.\n",
            "  0.   0.   0.   0.2  0.   0.8  0.8 ]\n",
            " [0.   0.   0.   0.   0.   0.   0.2  0.   0.2  0.   0.   0.   0.2  0.\n",
            "  0.   0.   0.2  0.   0.8  0.   1.  ]\n",
            " [0.   0.   0.   0.   0.   0.   0.2  0.   0.2  0.   0.   0.   0.2  0.\n",
            "  0.   0.   0.2  0.   0.8  1.   0.  ]]\n"
          ]
        }
      ]
    },
    {
      "cell_type": "code",
      "source": [
        "def drawG_am(G, directed=False, weighted=False, path=[], layout=\"sfdp\"):\n",
        "  graph = gv.Digraph(\"felicidad\") if directed else gv.Graph(\"alegria\")\n",
        "  graph.graph_attr[\"layout\"] = layout\n",
        "  graph.edge_attr[\"color\"] = \"gray\"\n",
        "  graph.node_attr[\"color\"] = \"orangered\"\n",
        "  graph.node_attr[\"width\"] = \"0.1\"\n",
        "  graph.node_attr[\"height\"] = \"0.1\"\n",
        "  graph.node_attr[\"fontsize\"] = \"8\"\n",
        "  graph.node_attr[\"fontcolor\"] = \"mediumslateblue\"\n",
        "  graph.node_attr[\"fontname\"] = \"monospace\"\n",
        "  graph.edge_attr[\"fontsize\"] = \"8\"\n",
        "  graph.edge_attr[\"fontname\"] = \"monospace\"\n",
        "  n = len(G)\n",
        "  added = set()\n",
        "  for v, u in enumerate(path):\n",
        "    if u != -1:\n",
        "      if weighted:\n",
        "        graph.edge(str(u), str(v), str(G[u, v]), dir=\"forward\", penwidth=\"2\", color=\"orange\")\n",
        "      else:\n",
        "        graph.edge(str(u), str(v), dir=\"forward\", penwidth=\"2\", color=\"orange\")\n",
        "      added.add(f\"{u},{v}\")\n",
        "      added.add(f\"{v},{u}\")\n",
        "  for u in range(n):\n",
        "    for v in range(n):\n",
        "      draw = False\n",
        "      if G[u, v] > 0 and not directed and not f\"{u},{v}\" in added:  \n",
        "        added.add(f\"{u},{v}\")\n",
        "        added.add(f\"{v},{u}\")\n",
        "        draw = True\n",
        "      elif directed:\n",
        "        draw = True\n",
        "      if draw:\n",
        "        if weighted:\n",
        "          graph.edge(str(u), str(v), str(G[u, v]))\n",
        "        else:\n",
        "          graph.edge(str(u), str(v))\n",
        "  return graph"
      ],
      "metadata": {
        "id": "FRsYBNA3k2jl"
      },
      "execution_count": 46,
      "outputs": []
    },
    {
      "cell_type": "code",
      "source": [
        "drawG_am(G, weighted=True)"
      ],
      "metadata": {
        "colab": {
          "base_uri": "https://localhost:8080/",
          "height": 493
        },
        "id": "R6hGg8eNk3HY",
        "outputId": "8a08dad2-4aed-44e2-9117-702052875afd"
      },
      "execution_count": 47,
      "outputs": [
        {
          "output_type": "execute_result",
          "data": {
            "image/svg+xml": "<?xml version=\"1.0\" encoding=\"UTF-8\" standalone=\"no\"?>\n<!DOCTYPE svg PUBLIC \"-//W3C//DTD SVG 1.1//EN\"\n \"http://www.w3.org/Graphics/SVG/1.1/DTD/svg11.dtd\">\n<!-- Generated by graphviz version 2.43.0 (0)\n -->\n<!-- Title: alegria Pages: 1 -->\n<svg width=\"536pt\" height=\"354pt\"\n viewBox=\"0.00 0.00 535.91 354.15\" xmlns=\"http://www.w3.org/2000/svg\" xmlns:xlink=\"http://www.w3.org/1999/xlink\">\n<g id=\"graph0\" class=\"graph\" transform=\"scale(1 1) rotate(0) translate(4 350.15)\">\n<title>alegria</title>\n<polygon fill=\"white\" stroke=\"transparent\" points=\"-4,4 -4,-350.15 531.91,-350.15 531.91,4 -4,4\"/>\n<!-- 0 -->\n<g id=\"node1\" class=\"node\">\n<title>0</title>\n<ellipse fill=\"none\" stroke=\"orangered\" cx=\"262.48\" cy=\"-321.83\" rx=\"14.7\" ry=\"12.04\"/>\n<text text-anchor=\"middle\" x=\"262.48\" y=\"-319.93\" font-family=\"monospace\" font-size=\"8.00\" fill=\"mediumslateblue\">0</text>\n</g>\n<!-- 1 -->\n<g id=\"node2\" class=\"node\">\n<title>1</title>\n<ellipse fill=\"none\" stroke=\"orangered\" cx=\"313.45\" cy=\"-268.22\" rx=\"14.7\" ry=\"12.04\"/>\n<text text-anchor=\"middle\" x=\"313.45\" y=\"-266.32\" font-family=\"monospace\" font-size=\"8.00\" fill=\"mediumslateblue\">1</text>\n</g>\n<!-- 0&#45;&#45;1 -->\n<g id=\"edge1\" class=\"edge\">\n<title>0&#45;&#45;1</title>\n<path fill=\"none\" stroke=\"gray\" d=\"M271.83,-311.99C281.03,-302.32 294.99,-287.64 304.16,-277.99\"/>\n<text text-anchor=\"middle\" x=\"278.5\" y=\"-297.59\" font-family=\"monospace\" font-size=\"8.00\">0.65</text>\n</g>\n<!-- 2 -->\n<g id=\"node3\" class=\"node\">\n<title>2</title>\n<ellipse fill=\"none\" stroke=\"orangered\" cx=\"220.25\" cy=\"-213.09\" rx=\"14.7\" ry=\"12.04\"/>\n<text text-anchor=\"middle\" x=\"220.25\" y=\"-211.19\" font-family=\"monospace\" font-size=\"8.00\" fill=\"mediumslateblue\">2</text>\n</g>\n<!-- 0&#45;&#45;2 -->\n<g id=\"edge2\" class=\"edge\">\n<title>0&#45;&#45;2</title>\n<path fill=\"none\" stroke=\"gray\" d=\"M257.96,-310.19C249.83,-289.26 232.84,-245.51 224.74,-224.64\"/>\n<text text-anchor=\"middle\" x=\"231.85\" y=\"-270.01\" font-family=\"monospace\" font-size=\"8.00\">0.65</text>\n</g>\n<!-- 9 -->\n<g id=\"node4\" class=\"node\">\n<title>9</title>\n<ellipse fill=\"none\" stroke=\"orangered\" cx=\"334.34\" cy=\"-334.13\" rx=\"14.7\" ry=\"12.04\"/>\n<text text-anchor=\"middle\" x=\"334.34\" y=\"-332.23\" font-family=\"monospace\" font-size=\"8.00\" fill=\"mediumslateblue\">9</text>\n</g>\n<!-- 0&#45;&#45;9 -->\n<g id=\"edge3\" class=\"edge\">\n<title>0&#45;&#45;9</title>\n<path fill=\"none\" stroke=\"gray\" d=\"M277.02,-324.32C289.41,-326.44 307.12,-329.47 319.57,-331.6\"/>\n<text text-anchor=\"middle\" x=\"291.3\" y=\"-330.56\" font-family=\"monospace\" font-size=\"8.00\">0.2</text>\n</g>\n<!-- 15 -->\n<g id=\"node5\" class=\"node\">\n<title>15</title>\n<ellipse fill=\"none\" stroke=\"orangered\" cx=\"337.92\" cy=\"-238.72\" rx=\"18.27\" ry=\"12.04\"/>\n<text text-anchor=\"middle\" x=\"337.92\" y=\"-236.82\" font-family=\"monospace\" font-size=\"8.00\" fill=\"mediumslateblue\">15</text>\n</g>\n<!-- 0&#45;&#45;15 -->\n<g id=\"edge4\" class=\"edge\">\n<title>0&#45;&#45;15</title>\n<path fill=\"none\" stroke=\"gray\" d=\"M271.43,-311.97C285.8,-296.14 313.86,-265.23 328.51,-249.09\"/>\n<text text-anchor=\"middle\" x=\"292.97\" y=\"-283.13\" font-family=\"monospace\" font-size=\"8.00\">0.2</text>\n</g>\n<!-- 1&#45;&#45;2 -->\n<g id=\"edge5\" class=\"edge\">\n<title>1&#45;&#45;2</title>\n<path fill=\"none\" stroke=\"gray\" d=\"M301.27,-261.01C283.41,-250.44 250.3,-230.86 232.44,-220.29\"/>\n<text text-anchor=\"middle\" x=\"257.35\" y=\"-243.25\" font-family=\"monospace\" font-size=\"8.00\">0.65</text>\n</g>\n<!-- 14 -->\n<g id=\"node6\" class=\"node\">\n<title>14</title>\n<ellipse fill=\"none\" stroke=\"orangered\" cx=\"448.16\" cy=\"-209.02\" rx=\"18.27\" ry=\"12.04\"/>\n<text text-anchor=\"middle\" x=\"448.16\" y=\"-207.12\" font-family=\"monospace\" font-size=\"8.00\" fill=\"mediumslateblue\">14</text>\n</g>\n<!-- 1&#45;&#45;14 -->\n<g id=\"edge6\" class=\"edge\">\n<title>1&#45;&#45;14</title>\n<path fill=\"none\" stroke=\"gray\" d=\"M326.86,-262.32C352.02,-251.27 406.14,-227.48 432.75,-215.79\"/>\n<text text-anchor=\"middle\" x=\"372.81\" y=\"-241.66\" font-family=\"monospace\" font-size=\"8.00\">0.2</text>\n</g>\n<!-- 17 -->\n<g id=\"node7\" class=\"node\">\n<title>17</title>\n<ellipse fill=\"none\" stroke=\"orangered\" cx=\"264.79\" cy=\"-174.87\" rx=\"18.27\" ry=\"12.04\"/>\n<text text-anchor=\"middle\" x=\"264.79\" y=\"-172.97\" font-family=\"monospace\" font-size=\"8.00\" fill=\"mediumslateblue\">17</text>\n</g>\n<!-- 1&#45;&#45;17 -->\n<g id=\"edge7\" class=\"edge\">\n<title>1&#45;&#45;17</title>\n<path fill=\"none\" stroke=\"gray\" d=\"M307.49,-256.77C298.15,-238.85 280.18,-204.38 270.81,-186.41\"/>\n<text text-anchor=\"middle\" x=\"298.65\" y=\"-224.19\" font-family=\"monospace\" font-size=\"8.00\">0.15</text>\n</g>\n<!-- 2&#45;&#45;17 -->\n<g id=\"edge11\" class=\"edge\">\n<title>2&#45;&#45;17</title>\n<path fill=\"none\" stroke=\"gray\" d=\"M230.58,-204.22C237.47,-198.31 246.52,-190.55 253.58,-184.49\"/>\n<text text-anchor=\"middle\" x=\"235.08\" y=\"-187.96\" font-family=\"monospace\" font-size=\"8.00\">0.2</text>\n</g>\n<!-- 4 -->\n<g id=\"node8\" class=\"node\">\n<title>4</title>\n<ellipse fill=\"none\" stroke=\"orangered\" cx=\"152.45\" cy=\"-156.94\" rx=\"14.7\" ry=\"12.04\"/>\n<text text-anchor=\"middle\" x=\"152.45\" y=\"-155.04\" font-family=\"monospace\" font-size=\"8.00\" fill=\"mediumslateblue\">4</text>\n</g>\n<!-- 2&#45;&#45;4 -->\n<g id=\"edge8\" class=\"edge\">\n<title>2&#45;&#45;4</title>\n<path fill=\"none\" stroke=\"gray\" d=\"M209.66,-204.31C196.99,-193.83 175.92,-176.38 163.19,-165.84\"/>\n<text text-anchor=\"middle\" x=\"179.42\" y=\"-187.68\" font-family=\"monospace\" font-size=\"8.00\">0.2</text>\n</g>\n<!-- 7 -->\n<g id=\"node9\" class=\"node\">\n<title>7</title>\n<ellipse fill=\"none\" stroke=\"orangered\" cx=\"237.19\" cy=\"-110.29\" rx=\"14.7\" ry=\"12.04\"/>\n<text text-anchor=\"middle\" x=\"237.19\" y=\"-108.39\" font-family=\"monospace\" font-size=\"8.00\" fill=\"mediumslateblue\">7</text>\n</g>\n<!-- 2&#45;&#45;7 -->\n<g id=\"edge9\" class=\"edge\">\n<title>2&#45;&#45;7</title>\n<path fill=\"none\" stroke=\"gray\" d=\"M222.26,-200.89C225.52,-181.11 231.92,-142.24 235.18,-122.47\"/>\n<text text-anchor=\"middle\" x=\"221.72\" y=\"-164.28\" font-family=\"monospace\" font-size=\"8.00\">0.2</text>\n</g>\n<!-- 11 -->\n<g id=\"node10\" class=\"node\">\n<title>11</title>\n<ellipse fill=\"none\" stroke=\"orangered\" cx=\"272.85\" cy=\"-222.14\" rx=\"18.27\" ry=\"12.04\"/>\n<text text-anchor=\"middle\" x=\"272.85\" y=\"-220.24\" font-family=\"monospace\" font-size=\"8.00\" fill=\"mediumslateblue\">11</text>\n</g>\n<!-- 2&#45;&#45;11 -->\n<g id=\"edge10\" class=\"edge\">\n<title>2&#45;&#45;11</title>\n<path fill=\"none\" stroke=\"gray\" d=\"M234.9,-215.61C241.1,-216.68 248.39,-217.93 254.91,-219.05\"/>\n<text text-anchor=\"middle\" x=\"244.9\" y=\"-210.93\" font-family=\"monospace\" font-size=\"8.00\">0.2</text>\n</g>\n<!-- 18 -->\n<g id=\"node11\" class=\"node\">\n<title>18</title>\n<ellipse fill=\"none\" stroke=\"orangered\" cx=\"276.24\" cy=\"-110.99\" rx=\"18.27\" ry=\"12.04\"/>\n<text text-anchor=\"middle\" x=\"276.24\" y=\"-109.09\" font-family=\"monospace\" font-size=\"8.00\" fill=\"mediumslateblue\">18</text>\n</g>\n<!-- 2&#45;&#45;18 -->\n<g id=\"edge12\" class=\"edge\">\n<title>2&#45;&#45;18</title>\n<path fill=\"none\" stroke=\"gray\" d=\"M226.46,-201.77C237.22,-182.14 259.22,-142.02 270,-122.36\"/>\n<text text-anchor=\"middle\" x=\"241.23\" y=\"-155.66\" font-family=\"monospace\" font-size=\"8.00\">0.2</text>\n</g>\n<!-- 9&#45;&#45;15 -->\n<g id=\"edge36\" class=\"edge\">\n<title>9&#45;&#45;15</title>\n<path fill=\"none\" stroke=\"gray\" d=\"M334.79,-322.04C335.48,-303.79 336.77,-269.38 337.46,-251\"/>\n<text text-anchor=\"middle\" x=\"329.13\" y=\"-289.12\" font-family=\"monospace\" font-size=\"8.00\">0.2</text>\n</g>\n<!-- 9&#45;&#45;11 -->\n<g id=\"edge35\" class=\"edge\">\n<title>9&#45;&#45;11</title>\n<path fill=\"none\" stroke=\"gray\" d=\"M328.22,-322.98C316.49,-301.62 290.98,-255.15 279.13,-233.58\"/>\n<text text-anchor=\"middle\" x=\"313.17\" y=\"-280.88\" font-family=\"monospace\" font-size=\"8.00\">0.65</text>\n</g>\n<!-- 10 -->\n<g id=\"node20\" class=\"node\">\n<title>10</title>\n<ellipse fill=\"none\" stroke=\"orangered\" cx=\"414.41\" cy=\"-292.34\" rx=\"18.27\" ry=\"12.04\"/>\n<text text-anchor=\"middle\" x=\"414.41\" y=\"-290.44\" font-family=\"monospace\" font-size=\"8.00\" fill=\"mediumslateblue\">10</text>\n</g>\n<!-- 9&#45;&#45;10 -->\n<g id=\"edge34\" class=\"edge\">\n<title>9&#45;&#45;10</title>\n<path fill=\"none\" stroke=\"gray\" d=\"M346.85,-327.6C361.19,-320.11 384.66,-307.87 399.82,-299.96\"/>\n<text text-anchor=\"middle\" x=\"366.33\" y=\"-316.38\" font-family=\"monospace\" font-size=\"8.00\">0.8</text>\n</g>\n<!-- 15&#45;&#45;17 -->\n<g id=\"edge48\" class=\"edge\">\n<title>15&#45;&#45;17</title>\n<path fill=\"none\" stroke=\"gray\" d=\"M326.81,-229.02C313.07,-217.02 289.8,-196.7 276,-184.66\"/>\n<text text-anchor=\"middle\" x=\"291.91\" y=\"-200.44\" font-family=\"monospace\" font-size=\"8.00\">0.65</text>\n</g>\n<!-- 16 -->\n<g id=\"node17\" class=\"node\">\n<title>16</title>\n<ellipse fill=\"none\" stroke=\"orangered\" cx=\"359.77\" cy=\"-106.47\" rx=\"18.27\" ry=\"12.04\"/>\n<text text-anchor=\"middle\" x=\"359.77\" y=\"-104.57\" font-family=\"monospace\" font-size=\"8.00\" fill=\"mediumslateblue\">16</text>\n</g>\n<!-- 15&#45;&#45;16 -->\n<g id=\"edge47\" class=\"edge\">\n<title>15&#45;&#45;16</title>\n<path fill=\"none\" stroke=\"gray\" d=\"M339.94,-226.51C344.1,-201.32 353.6,-143.81 357.76,-118.64\"/>\n<text text-anchor=\"middle\" x=\"341.85\" y=\"-175.18\" font-family=\"monospace\" font-size=\"8.00\">0.8</text>\n</g>\n<!-- 17&#45;&#45;18 -->\n<g id=\"edge52\" class=\"edge\">\n<title>17&#45;&#45;18</title>\n<path fill=\"none\" stroke=\"gray\" d=\"M266.94,-162.86C268.99,-151.44 272.05,-134.36 274.09,-122.95\"/>\n<text text-anchor=\"middle\" x=\"263.52\" y=\"-145.5\" font-family=\"monospace\" font-size=\"8.00\">0.2</text>\n</g>\n<!-- 4&#45;&#45;17 -->\n<g id=\"edge18\" class=\"edge\">\n<title>4&#45;&#45;17</title>\n<path fill=\"none\" stroke=\"gray\" d=\"M167.13,-159.29C187.59,-162.55 224.64,-168.47 246.76,-171.99\"/>\n<text text-anchor=\"middle\" x=\"199.95\" y=\"-168.24\" font-family=\"monospace\" font-size=\"8.00\">0.2</text>\n</g>\n<!-- 4&#45;&#45;7 -->\n<g id=\"edge16\" class=\"edge\">\n<title>4&#45;&#45;7</title>\n<path fill=\"none\" stroke=\"gray\" d=\"M164.95,-150.06C181.06,-141.19 208.9,-125.86 224.91,-117.05\"/>\n<text text-anchor=\"middle\" x=\"187.93\" y=\"-136.15\" font-family=\"monospace\" font-size=\"8.00\">0.2</text>\n</g>\n<!-- 4&#45;&#45;11 -->\n<g id=\"edge17\" class=\"edge\">\n<title>4&#45;&#45;11</title>\n<path fill=\"none\" stroke=\"gray\" d=\"M164.88,-163.67C187.35,-175.84 234.6,-201.43 258.44,-214.34\"/>\n<text text-anchor=\"middle\" x=\"204.66\" y=\"-191.61\" font-family=\"monospace\" font-size=\"8.00\">0.2</text>\n</g>\n<!-- 4&#45;&#45;18 -->\n<g id=\"edge19\" class=\"edge\">\n<title>4&#45;&#45;18</title>\n<path fill=\"none\" stroke=\"gray\" d=\"M166.17,-151.85C189.21,-143.3 235.55,-126.09 260.11,-116.98\"/>\n<text text-anchor=\"middle\" x=\"206.14\" y=\"-137.01\" font-family=\"monospace\" font-size=\"8.00\">0.2</text>\n</g>\n<!-- 5 -->\n<g id=\"node13\" class=\"node\">\n<title>5</title>\n<ellipse fill=\"none\" stroke=\"orangered\" cx=\"14.85\" cy=\"-174.49\" rx=\"14.7\" ry=\"12.04\"/>\n<text text-anchor=\"middle\" x=\"14.85\" y=\"-172.59\" font-family=\"monospace\" font-size=\"8.00\" fill=\"mediumslateblue\">5</text>\n</g>\n<!-- 4&#45;&#45;5 -->\n<g id=\"edge15\" class=\"edge\">\n<title>4&#45;&#45;5</title>\n<path fill=\"none\" stroke=\"gray\" d=\"M137.72,-158.82C111.38,-162.18 56.45,-169.19 29.89,-172.57\"/>\n<text text-anchor=\"middle\" x=\"76.8\" y=\"-168.3\" font-family=\"monospace\" font-size=\"8.00\">0.8</text>\n</g>\n<!-- 7&#45;&#45;17 -->\n<g id=\"edge28\" class=\"edge\">\n<title>7&#45;&#45;17</title>\n<path fill=\"none\" stroke=\"gray\" d=\"M242.12,-121.84C247.08,-133.45 254.7,-151.26 259.71,-162.99\"/>\n<text text-anchor=\"middle\" x=\"243.92\" y=\"-145.01\" font-family=\"monospace\" font-size=\"8.00\">0.2</text>\n</g>\n<!-- 7&#45;&#45;11 -->\n<g id=\"edge27\" class=\"edge\">\n<title>7&#45;&#45;11</title>\n<path fill=\"none\" stroke=\"gray\" d=\"M241,-122.26C247.87,-143.79 262.22,-188.79 269.06,-210.26\"/>\n<text text-anchor=\"middle\" x=\"262.03\" y=\"-159.86\" font-family=\"monospace\" font-size=\"8.00\">0.2</text>\n</g>\n<!-- 7&#45;&#45;18 -->\n<g id=\"edge29\" class=\"edge\">\n<title>7&#45;&#45;18</title>\n<path fill=\"none\" stroke=\"gray\" d=\"M252.17,-110.56C253.98,-110.59 255.84,-110.62 257.69,-110.66\"/>\n<text text-anchor=\"middle\" x=\"254.93\" y=\"-104.21\" font-family=\"monospace\" font-size=\"8.00\">0.2</text>\n</g>\n<!-- 8 -->\n<g id=\"node15\" class=\"node\">\n<title>8</title>\n<ellipse fill=\"none\" stroke=\"orangered\" cx=\"339.31\" cy=\"-51.6\" rx=\"14.7\" ry=\"12.04\"/>\n<text text-anchor=\"middle\" x=\"339.31\" y=\"-49.7\" font-family=\"monospace\" font-size=\"8.00\" fill=\"mediumslateblue\">8</text>\n</g>\n<!-- 7&#45;&#45;8 -->\n<g id=\"edge26\" class=\"edge\">\n<title>7&#45;&#45;8</title>\n<path fill=\"none\" stroke=\"gray\" d=\"M249.3,-103.33C268.85,-92.09 307.15,-70.08 326.89,-58.73\"/>\n<text text-anchor=\"middle\" x=\"281.1\" y=\"-83.63\" font-family=\"monospace\" font-size=\"8.00\">0.8</text>\n</g>\n<!-- 11&#45;&#45;17 -->\n<g id=\"edge39\" class=\"edge\">\n<title>11&#45;&#45;17</title>\n<path fill=\"none\" stroke=\"gray\" d=\"M270.73,-209.72C269.54,-202.72 268.05,-194.01 266.87,-187.05\"/>\n<text text-anchor=\"middle\" x=\"261.8\" y=\"-200.98\" font-family=\"monospace\" font-size=\"8.00\">0.2</text>\n</g>\n<!-- 11&#45;&#45;18 -->\n<g id=\"edge40\" class=\"edge\">\n<title>11&#45;&#45;18</title>\n<path fill=\"none\" stroke=\"gray\" d=\"M273.23,-209.82C273.88,-188.34 275.22,-144.31 275.87,-123.03\"/>\n<text text-anchor=\"middle\" x=\"281.55\" y=\"-160.02\" font-family=\"monospace\" font-size=\"8.00\">0.2</text>\n</g>\n<!-- 19 -->\n<g id=\"node18\" class=\"node\">\n<title>19</title>\n<ellipse fill=\"none\" stroke=\"orangered\" cx=\"391.14\" cy=\"-43.72\" rx=\"18.27\" ry=\"12.04\"/>\n<text text-anchor=\"middle\" x=\"391.14\" y=\"-41.82\" font-family=\"monospace\" font-size=\"8.00\" fill=\"mediumslateblue\">19</text>\n</g>\n<!-- 18&#45;&#45;19 -->\n<g id=\"edge53\" class=\"edge\">\n<title>18&#45;&#45;19</title>\n<path fill=\"none\" stroke=\"gray\" d=\"M290.33,-102.74C312.5,-89.76 355.27,-64.72 377.29,-51.82\"/>\n<text text-anchor=\"middle\" x=\"326.81\" y=\"-79.88\" font-family=\"monospace\" font-size=\"8.00\">0.8</text>\n</g>\n<!-- 20 -->\n<g id=\"node19\" class=\"node\">\n<title>20</title>\n<ellipse fill=\"none\" stroke=\"orangered\" cx=\"374.53\" cy=\"-12.02\" rx=\"18.27\" ry=\"12.04\"/>\n<text text-anchor=\"middle\" x=\"374.53\" y=\"-10.12\" font-family=\"monospace\" font-size=\"8.00\" fill=\"mediumslateblue\">20</text>\n</g>\n<!-- 18&#45;&#45;20 -->\n<g id=\"edge54\" class=\"edge\">\n<title>18&#45;&#45;20</title>\n<path fill=\"none\" stroke=\"gray\" d=\"M286.39,-100.77C305.22,-81.81 345.38,-41.37 364.29,-22.33\"/>\n<text text-anchor=\"middle\" x=\"318.34\" y=\"-64.15\" font-family=\"monospace\" font-size=\"8.00\">0.8</text>\n</g>\n<!-- 3 -->\n<g id=\"node12\" class=\"node\">\n<title>3</title>\n<ellipse fill=\"none\" stroke=\"orangered\" cx=\"19.72\" cy=\"-117.16\" rx=\"14.7\" ry=\"12.04\"/>\n<text text-anchor=\"middle\" x=\"19.72\" y=\"-115.26\" font-family=\"monospace\" font-size=\"8.00\" fill=\"mediumslateblue\">3</text>\n</g>\n<!-- 3&#45;&#45;4 -->\n<g id=\"edge13\" class=\"edge\">\n<title>3&#45;&#45;4</title>\n<path fill=\"none\" stroke=\"gray\" d=\"M33.93,-121.42C59.47,-129.07 112.87,-145.08 138.34,-152.72\"/>\n<text text-anchor=\"middle\" x=\"79.14\" y=\"-139.67\" font-family=\"monospace\" font-size=\"8.00\">0.8</text>\n</g>\n<!-- 3&#45;&#45;5 -->\n<g id=\"edge14\" class=\"edge\">\n<title>3&#45;&#45;5</title>\n<path fill=\"none\" stroke=\"gray\" d=\"M18.69,-129.32C17.86,-139.05 16.71,-152.63 15.88,-162.35\"/>\n<text text-anchor=\"middle\" x=\"10.29\" y=\"-148.43\" font-family=\"monospace\" font-size=\"8.00\">1.0</text>\n</g>\n<!-- 6 -->\n<g id=\"node14\" class=\"node\">\n<title>6</title>\n<ellipse fill=\"none\" stroke=\"orangered\" cx=\"329.23\" cy=\"-18.42\" rx=\"14.7\" ry=\"12.04\"/>\n<text text-anchor=\"middle\" x=\"329.23\" y=\"-16.52\" font-family=\"monospace\" font-size=\"8.00\" fill=\"mediumslateblue\">6</text>\n</g>\n<!-- 6&#45;&#45;7 -->\n<g id=\"edge20\" class=\"edge\">\n<title>6&#45;&#45;7</title>\n<path fill=\"none\" stroke=\"gray\" d=\"M319.73,-27.9C302.09,-45.51 264.48,-83.05 246.78,-100.72\"/>\n<text text-anchor=\"middle\" x=\"273.75\" y=\"-66.91\" font-family=\"monospace\" font-size=\"8.00\">0.65</text>\n</g>\n<!-- 6&#45;&#45;8 -->\n<g id=\"edge21\" class=\"edge\">\n<title>6&#45;&#45;8</title>\n<path fill=\"none\" stroke=\"gray\" d=\"M332.87,-30.4C333.77,-33.37 334.74,-36.55 335.64,-39.52\"/>\n<text text-anchor=\"middle\" x=\"324.76\" y=\"-37.56\" font-family=\"monospace\" font-size=\"8.00\">0.85</text>\n</g>\n<!-- 12 -->\n<g id=\"node16\" class=\"node\">\n<title>12</title>\n<ellipse fill=\"none\" stroke=\"orangered\" cx=\"433.71\" cy=\"-91.7\" rx=\"18.27\" ry=\"12.04\"/>\n<text text-anchor=\"middle\" x=\"433.71\" y=\"-89.8\" font-family=\"monospace\" font-size=\"8.00\" fill=\"mediumslateblue\">12</text>\n</g>\n<!-- 6&#45;&#45;12 -->\n<g id=\"edge22\" class=\"edge\">\n<title>6&#45;&#45;12</title>\n<path fill=\"none\" stroke=\"gray\" d=\"M340.81,-26.54C360.58,-40.4 400.66,-68.52 421.11,-82.85\"/>\n<text text-anchor=\"middle\" x=\"373.96\" y=\"-57.3\" font-family=\"monospace\" font-size=\"8.00\">0.2</text>\n</g>\n<!-- 6&#45;&#45;16 -->\n<g id=\"edge23\" class=\"edge\">\n<title>6&#45;&#45;16</title>\n<path fill=\"none\" stroke=\"gray\" d=\"M333.35,-30.29C339.18,-47.1 349.77,-77.65 355.62,-94.5\"/>\n<text text-anchor=\"middle\" x=\"351.49\" y=\"-65\" font-family=\"monospace\" font-size=\"8.00\">0.2</text>\n</g>\n<!-- 6&#45;&#45;19 -->\n<g id=\"edge24\" class=\"edge\">\n<title>6&#45;&#45;19</title>\n<path fill=\"none\" stroke=\"gray\" d=\"M342.67,-23.91C352.34,-27.86 365.41,-33.2 375.55,-37.34\"/>\n<text text-anchor=\"middle\" x=\"352.11\" y=\"-33.23\" font-family=\"monospace\" font-size=\"8.00\">0.2</text>\n</g>\n<!-- 6&#45;&#45;20 -->\n<g id=\"edge25\" class=\"edge\">\n<title>6&#45;&#45;20</title>\n<path fill=\"none\" stroke=\"gray\" d=\"M344.07,-16.32C347.99,-15.77 352.27,-15.17 356.34,-14.59\"/>\n<text text-anchor=\"middle\" x=\"350.2\" y=\"-9.06\" font-family=\"monospace\" font-size=\"8.00\">0.2</text>\n</g>\n<!-- 8&#45;&#45;12 -->\n<g id=\"edge30\" class=\"edge\">\n<title>8&#45;&#45;12</title>\n<path fill=\"none\" stroke=\"gray\" d=\"M352.84,-57.34C370.07,-64.66 399.8,-77.29 418.01,-85.03\"/>\n<text text-anchor=\"middle\" x=\"392.42\" y=\"-73.78\" font-family=\"monospace\" font-size=\"8.00\">0.2</text>\n</g>\n<!-- 8&#45;&#45;16 -->\n<g id=\"edge31\" class=\"edge\">\n<title>8&#45;&#45;16</title>\n<path fill=\"none\" stroke=\"gray\" d=\"M343.65,-63.23C347.07,-72.42 351.84,-85.19 355.3,-94.47\"/>\n<text text-anchor=\"middle\" x=\"342.47\" y=\"-81.45\" font-family=\"monospace\" font-size=\"8.00\">0.2</text>\n</g>\n<!-- 8&#45;&#45;19 -->\n<g id=\"edge32\" class=\"edge\">\n<title>8&#45;&#45;19</title>\n<path fill=\"none\" stroke=\"gray\" d=\"M354.02,-49.36C359.89,-48.47 366.7,-47.43 372.88,-46.49\"/>\n<text text-anchor=\"middle\" x=\"363.45\" y=\"-41.52\" font-family=\"monospace\" font-size=\"8.00\">0.2</text>\n</g>\n<!-- 8&#45;&#45;20 -->\n<g id=\"edge33\" class=\"edge\">\n<title>8&#45;&#45;20</title>\n<path fill=\"none\" stroke=\"gray\" d=\"M348.2,-41.61C353.41,-35.75 360,-28.35 365.28,-22.42\"/>\n<text text-anchor=\"middle\" x=\"360.24\" y=\"-25.61\" font-family=\"monospace\" font-size=\"8.00\">0.2</text>\n</g>\n<!-- 12&#45;&#45;14 -->\n<g id=\"edge42\" class=\"edge\">\n<title>12&#45;&#45;14</title>\n<path fill=\"none\" stroke=\"gray\" d=\"M435.2,-103.81C437.97,-126.29 443.88,-174.23 446.65,-196.79\"/>\n<text text-anchor=\"middle\" x=\"431.43\" y=\"-152.9\" font-family=\"monospace\" font-size=\"8.00\">0.65</text>\n</g>\n<!-- 12&#45;&#45;16 -->\n<g id=\"edge43\" class=\"edge\">\n<title>12&#45;&#45;16</title>\n<path fill=\"none\" stroke=\"gray\" d=\"M415.81,-95.27C404.19,-97.59 389.1,-100.61 377.5,-102.93\"/>\n<text text-anchor=\"middle\" x=\"389.66\" y=\"-101.7\" font-family=\"monospace\" font-size=\"8.00\">0.2</text>\n</g>\n<!-- 12&#45;&#45;19 -->\n<g id=\"edge44\" class=\"edge\">\n<title>12&#45;&#45;19</title>\n<path fill=\"none\" stroke=\"gray\" d=\"M424.26,-81.05C417.21,-73.1 407.61,-62.28 400.56,-54.33\"/>\n<text text-anchor=\"middle\" x=\"405.41\" y=\"-61.29\" font-family=\"monospace\" font-size=\"8.00\">0.2</text>\n</g>\n<!-- 12&#45;&#45;20 -->\n<g id=\"edge45\" class=\"edge\">\n<title>12&#45;&#45;20</title>\n<path fill=\"none\" stroke=\"gray\" d=\"M425.48,-80.62C414.18,-65.4 393.96,-38.18 382.69,-23.01\"/>\n<text text-anchor=\"middle\" x=\"411.09\" y=\"-54.41\" font-family=\"monospace\" font-size=\"8.00\">0.2</text>\n</g>\n<!-- 13 -->\n<g id=\"node21\" class=\"node\">\n<title>13</title>\n<ellipse fill=\"none\" stroke=\"orangered\" cx=\"509.52\" cy=\"-205.21\" rx=\"18.27\" ry=\"12.04\"/>\n<text text-anchor=\"middle\" x=\"509.52\" y=\"-203.31\" font-family=\"monospace\" font-size=\"8.00\" fill=\"mediumslateblue\">13</text>\n</g>\n<!-- 12&#45;&#45;13 -->\n<g id=\"edge41\" class=\"edge\">\n<title>12&#45;&#45;13</title>\n<path fill=\"none\" stroke=\"gray\" d=\"M441.26,-103C455.79,-124.75 487.5,-172.24 502.01,-193.96\"/>\n<text text-anchor=\"middle\" x=\"464.63\" y=\"-151.08\" font-family=\"monospace\" font-size=\"8.00\">0.8</text>\n</g>\n<!-- 16&#45;&#45;17 -->\n<g id=\"edge49\" class=\"edge\">\n<title>16&#45;&#45;17</title>\n<path fill=\"none\" stroke=\"gray\" d=\"M347.35,-115.41C329.15,-128.52 295.42,-152.82 277.21,-165.93\"/>\n<text text-anchor=\"middle\" x=\"302.78\" y=\"-143.27\" font-family=\"monospace\" font-size=\"8.00\">0.65</text>\n</g>\n<!-- 16&#45;&#45;19 -->\n<g id=\"edge50\" class=\"edge\">\n<title>16&#45;&#45;19</title>\n<path fill=\"none\" stroke=\"gray\" d=\"M365.52,-94.96C371.18,-83.64 379.77,-66.45 385.42,-55.15\"/>\n<text text-anchor=\"middle\" x=\"368.47\" y=\"-77.66\" font-family=\"monospace\" font-size=\"8.00\">0.2</text>\n</g>\n<!-- 16&#45;&#45;20 -->\n<g id=\"edge51\" class=\"edge\">\n<title>16&#45;&#45;20</title>\n<path fill=\"none\" stroke=\"gray\" d=\"M361.64,-94.51C364.46,-76.44 369.79,-42.37 372.63,-24.18\"/>\n<text text-anchor=\"middle\" x=\"360.13\" y=\"-52.95\" font-family=\"monospace\" font-size=\"8.00\">0.2</text>\n</g>\n<!-- 19&#45;&#45;20 -->\n<g id=\"edge55\" class=\"edge\">\n<title>19&#45;&#45;20</title>\n<path fill=\"none\" stroke=\"gray\" d=\"M385.14,-32.27C383.66,-29.44 382.06,-26.39 380.57,-23.55\"/>\n<text text-anchor=\"middle\" x=\"375.86\" y=\"-30.51\" font-family=\"monospace\" font-size=\"8.00\">1.0</text>\n</g>\n<!-- 10&#45;&#45;11 -->\n<g id=\"edge37\" class=\"edge\">\n<title>10&#45;&#45;11</title>\n<path fill=\"none\" stroke=\"gray\" d=\"M399.53,-284.96C372.27,-271.44 314.64,-242.87 287.53,-229.42\"/>\n<text text-anchor=\"middle\" x=\"353.03\" y=\"-259.79\" font-family=\"monospace\" font-size=\"8.00\">0.65</text>\n</g>\n<!-- 10&#45;&#45;13 -->\n<g id=\"edge38\" class=\"edge\">\n<title>10&#45;&#45;13</title>\n<path fill=\"none\" stroke=\"gray\" d=\"M425.32,-282.35C443.67,-265.54 480.48,-231.82 498.74,-215.09\"/>\n<text text-anchor=\"middle\" x=\"455.03\" y=\"-251.32\" font-family=\"monospace\" font-size=\"8.00\">0.2</text>\n</g>\n<!-- 13&#45;&#45;14 -->\n<g id=\"edge46\" class=\"edge\">\n<title>13&#45;&#45;14</title>\n<path fill=\"none\" stroke=\"gray\" d=\"M491.11,-206.35C483.34,-206.84 474.32,-207.4 466.56,-207.88\"/>\n<text text-anchor=\"middle\" x=\"478.83\" y=\"-200.72\" font-family=\"monospace\" font-size=\"8.00\">0.65</text>\n</g>\n</g>\n</svg>\n",
            "text/plain": [
              "<graphviz.graphs.Graph at 0x7f2329597e20>"
            ]
          },
          "metadata": {},
          "execution_count": 47
        }
      ]
    }
  ]
}