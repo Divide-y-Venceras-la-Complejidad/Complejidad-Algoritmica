{
  "nbformat": 4,
  "nbformat_minor": 0,
  "metadata": {
    "colab": {
      "provenance": [],
      "include_colab_link": true
    },
    "kernelspec": {
      "name": "python3",
      "display_name": "Python 3"
    },
    "language_info": {
      "name": "python"
    }
  },
  "cells": [
    {
      "cell_type": "markdown",
      "metadata": {
        "id": "view-in-github",
        "colab_type": "text"
      },
      "source": [
        "<a href=\"https://colab.research.google.com/github/Divide-y-Venceras-la-Complejidad/Complejidad-Algoritmica/blob/trabajo-parcial/Hito2.ipynb\" target=\"_parent\"><img src=\"https://colab.research.google.com/assets/colab-badge.svg\" alt=\"Open In Colab\"/></a>"
      ]
    },
    {
      "cell_type": "code",
      "execution_count": null,
      "metadata": {
        "id": "p-bTwNXXSknW"
      },
      "outputs": [],
      "source": [
        "class Music:\n",
        "  def __init__(self, id, name, genero, artista, topico, year):\n",
        "    self.id = id\n",
        "    self.name = name\n",
        "    self.genero = genero\n",
        "    self.artista = artista\n",
        "    self.topico = topico\n",
        "    self.year = year"
      ]
    },
    {
      "cell_type": "markdown",
      "source": [
        "#Grafo Ponderado por género"
      ],
      "metadata": {
        "id": "QpPWRvC_S5yg"
      }
    },
    {
      "cell_type": "code",
      "source": [
        "lst = []\n",
        "with open(\"datasettp2100datos.csv\") as f:\n",
        "  line1 = f.readline()\n",
        "  for line in f:\n",
        "    line = line.split(\";\")\n",
        "    music = Music(line[0], line[1], line[2], line[3], line[4], line[5])\n",
        "    lst.append(music)"
      ],
      "metadata": {
        "id": "JcVzOqZaS9hG"
      },
      "execution_count": null,
      "outputs": []
    },
    {
      "cell_type": "code",
      "source": [
        "arch = open(\"matrizPorGenero.txt\", \"w\")\n",
        "\n",
        "for i in lst:\n",
        "  for j in lst:\n",
        "    point = 0\n",
        "    ge = 0\n",
        "    to = 0\n",
        "    ar = 0\n",
        "    anio = 0\n",
        "    if i.id != j.id: \n",
        "      if i.genero == j.genero:\n",
        "        ge = 1*0.60\n",
        "        anio = (1/(1+abs(int(i.year)-int(j.year))))*0.05\n",
        "      if i.topico == j.topico:\n",
        "        to = 1*0.20\n",
        "      if i.artista == j.artista:\n",
        "        ar = 1*0.15\n",
        "      if ge + to == 0:\n",
        "        anio = 0\n",
        "    point = round(ge + to + ar + anio, 4)\n",
        "    arch.write(f\"{point} \")\n",
        "  arch.write(\"\\n\")\n",
        "arch.close()"
      ],
      "metadata": {
        "id": "foiCLNAMZfIy"
      },
      "execution_count": null,
      "outputs": []
    },
    {
      "cell_type": "markdown",
      "source": [
        "#Grafo Ponderado por Año"
      ],
      "metadata": {
        "id": "6XilK3CHZoz9"
      }
    },
    {
      "cell_type": "code",
      "source": [
        "arch = open(\"matrizPorAño.txt\", \"w\")\n",
        "\n",
        "for i in lst:\n",
        "  for j in lst:\n",
        "    point = 0\n",
        "    ge = 0\n",
        "    to = 0\n",
        "    ar = 0\n",
        "    anio = 0\n",
        "    if i.id != j.id: \n",
        "      if i.year == j.year:\n",
        "        ge = 1*0.10\n",
        "        anio = (1/(1+abs(int(i.year)-int(j.year))))*0.80\n",
        "      if i.topico == j.topico:\n",
        "        to = 1*0.05\n",
        "      if i.artista == j.artista:\n",
        "        ar = 1*0.05\n",
        "    point = round(ge + to + ar + anio, 4)\n",
        "    arch.write(f\"{point} \")\n",
        "  arch.write(\"\\n\")\n",
        "arch.close()"
      ],
      "metadata": {
        "id": "fFzQ4KtWZqqy"
      },
      "execution_count": null,
      "outputs": []
    },
    {
      "cell_type": "markdown",
      "source": [
        "#Grafo Ponderado por Topico"
      ],
      "metadata": {
        "id": "Y5ZWKOJfhGQ9"
      }
    },
    {
      "cell_type": "code",
      "source": [
        "arch = open(\"matrizPorTopico.txt\", \"w\")\n",
        "\n",
        "for i in lst:\n",
        "  for j in lst:\n",
        "    point = 0\n",
        "    ge = 0\n",
        "    to = 0\n",
        "    ar = 0\n",
        "    anio = 0\n",
        "    if i.id != j.id: \n",
        "      if i.genero == j.genero:\n",
        "        ge = 1*0.05\n",
        "      if i.topico == j.topico:\n",
        "        to = 1*0.80\n",
        "        anio = (1/(1+abs(int(i.year)-int(j.year))))*0.05\n",
        "      if i.artista == j.artista:\n",
        "        ar = 1*0.05\n",
        "      if i.artista == j.artista and i.topico == j.topico:\n",
        "        to = 1*0.85\n",
        "        anio = (1/(1+abs(int(i.year)-int(j.year))))*0.05\n",
        "    point = round(ge + to + ar + anio, 4)\n",
        "    arch.write(f\"{point} \")\n",
        "  arch.write(\"\\n\")\n",
        "arch.close()"
      ],
      "metadata": {
        "id": "9KqOvTq1bxgO"
      },
      "execution_count": null,
      "outputs": []
    },
    {
      "cell_type": "markdown",
      "source": [
        "#Grafo Ponderado por Artista"
      ],
      "metadata": {
        "id": "pX9Qg9cRhKvQ"
      }
    },
    {
      "cell_type": "code",
      "source": [
        "arch = open(\"matrizPorArtista.txt\", \"w\")\n",
        "\n",
        "for i in lst:\n",
        "  for j in lst:\n",
        "    point = 0\n",
        "    ge = 0\n",
        "    to = 0\n",
        "    ar = 0\n",
        "    anio = 0\n",
        "    if i.id != j.id: \n",
        "      if i.genero == j.genero:\n",
        "        ge = 1*0.05\n",
        "      if i.topico == j.topico:\n",
        "        to = 1*0.05\n",
        "      if i.artista == j.artista:\n",
        "        ar = 1*0.60\n",
        "        anio = (1/(1+abs(int(i.year)-int(j.year))))*0.05\n",
        "      if i.genero == j.genero and i.topico == j.topico and i.artista == j.artista:\n",
        "        ar = 1*0.85\n",
        "        anio = (1/(1+abs(int(i.year)-int(j.year))))*0.05\n",
        "\n",
        "    point = round(ge + to + ar + anio, 4)\n",
        "    arch.write(f\"{point} \")\n",
        "  arch.write(\"\\n\")\n",
        "arch.close()"
      ],
      "metadata": {
        "id": "yRip_vd5hQry"
      },
      "execution_count": null,
      "outputs": []
    },
    {
      "cell_type": "markdown",
      "source": [
        "#Cargamos las 4 matrices en un grafo"
      ],
      "metadata": {
        "id": "pQtyJ8eHZQ1y"
      }
    },
    {
      "cell_type": "code",
      "source": [
        "import numpy as np\n",
        "import graphviz as gv"
      ],
      "metadata": {
        "id": "fBO8blJ5ZZG4"
      },
      "execution_count": 19,
      "outputs": []
    },
    {
      "cell_type": "markdown",
      "source": [
        "\n",
        "\n",
        "```\n",
        "G1 -> Grafo ponderado por Genero\n",
        "G2 -> Grafo ponderado por Año\n",
        "G3 -> Grafo ponderado por Tópico\n",
        "G4 -> Grafo ponderado por Artista\n",
        "```\n",
        "\n"
      ],
      "metadata": {
        "id": "5gVlKgNZZvCo"
      }
    },
    {
      "cell_type": "code",
      "source": [
        "G1 = np.loadtxt(\"matrizPorGenero.txt\")\n",
        "G2 = np.loadtxt(\"matrizPorAño.txt\")\n",
        "G3 = np.loadtxt(\"matrizPorTopico.txt\")\n",
        "G4 = np.loadtxt(\"matrizPorArtista.txt\")"
      ],
      "metadata": {
        "id": "DbbxklZAZjpj"
      },
      "execution_count": 21,
      "outputs": []
    },
    {
      "cell_type": "markdown",
      "source": [
        "#Aplicación del algoritmo"
      ],
      "metadata": {
        "id": "9VIxVNquP8zz"
      }
    },
    {
      "cell_type": "code",
      "source": [
        "def bfs_first_height(G, s):\n",
        "    n = len(G)\n",
        "    visited = [False] * n\n",
        "    path = [-1] * n  # parent\n",
        "    queue = [s]\n",
        "    visited[s] = True\n",
        "\n",
        "    while queue:\n",
        "        u = queue.pop(0)\n",
        "        if path[u] != -1:\n",
        "            # Already visited a vertex at the first height\n",
        "            continue\n",
        "        for v in range(n):\n",
        "            if G[u][v] != 0 and not visited[v]:\n",
        "                visited[v] = True\n",
        "                path[v] = u\n",
        "                queue.append(v)\n",
        "    print(len(path))\n",
        "    return path"
      ],
      "metadata": {
        "id": "5AgXAvgXcUFV"
      },
      "execution_count": 28,
      "outputs": []
    },
    {
      "cell_type": "code",
      "source": [
        "import heapq\n",
        "\n",
        "def bfs_first_height_max_heap(G, s):\n",
        "    n = len(G)\n",
        "    visited = [False] * n\n",
        "    path = [-1] * n  # parent\n",
        "    queue = [s]\n",
        "    visited[s] = True\n",
        "\n",
        "    while queue:\n",
        "        u = queue.pop(0)\n",
        "        if path[u] != -1:\n",
        "            # Already visited a vertex at the first height\n",
        "            continue\n",
        "        for v in range(n):\n",
        "            if G[u][v] != 0 and not visited[v]:\n",
        "                visited[v] = True\n",
        "                path[v] = u\n",
        "                queue.append(v)\n",
        "\n",
        "    max_heap = []\n",
        "    for vertex, parent in enumerate(path):\n",
        "        if parent == s:\n",
        "            heapq.heappush(max_heap, (-G[s][vertex], vertex))\n",
        "\n",
        "    return [heapq.heappop(max_heap)[1] for _ in range(min(10, len(max_heap)))]"
      ],
      "metadata": {
        "id": "zp9le6C_P7q-"
      },
      "execution_count": 29,
      "outputs": []
    },
    {
      "cell_type": "code",
      "source": [
        "path = bfs_first_height_max_heap(G4, 5)\n",
        "path"
      ],
      "metadata": {
        "colab": {
          "base_uri": "https://localhost:8080/"
        },
        "id": "dlKgvvd2aen7",
        "outputId": "73ea75db-5e07-49c0-db9a-a77c17290b58"
      },
      "execution_count": 35,
      "outputs": [
        {
          "output_type": "execute_result",
          "data": {
            "text/plain": [
              "[149, 150, 151, 152, 194, 17, 18, 21, 29, 30]"
            ]
          },
          "metadata": {},
          "execution_count": 35
        }
      ]
    },
    {
      "cell_type": "markdown",
      "source": [
        "\n",
        "\n",
        "```\n",
        "[149, 17, 18, 21, 29, 30, 41, 42, 50, 51]\n",
        "```\n",
        "\n"
      ],
      "metadata": {
        "id": "T9N1gY73cakB"
      }
    }
  ]
}