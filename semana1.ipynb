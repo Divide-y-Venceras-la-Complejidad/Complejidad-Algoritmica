{
  "nbformat": 4,
  "nbformat_minor": 0,
  "metadata": {
    "colab": {
      "provenance": [],
      "authorship_tag": "ABX9TyMLePgvZy2o6fVr/sCbs3HG",
      "include_colab_link": true
    },
    "kernelspec": {
      "name": "python3",
      "display_name": "Python 3"
    },
    "language_info": {
      "name": "python"
    }
  },
  "cells": [
    {
      "cell_type": "markdown",
      "metadata": {
        "id": "view-in-github",
        "colab_type": "text"
      },
      "source": [
        "<a href=\"https://colab.research.google.com/github/Divide-y-Venceras-la-Complejidad/Complejidad-Algoritmica/blob/Semana1/semana1.ipynb\" target=\"_parent\"><img src=\"https://colab.research.google.com/assets/colab-badge.svg\" alt=\"Open In Colab\"/></a>"
      ]
    },
    {
      "cell_type": "markdown",
      "source": [
        "#Tarea Clase Semana 1\n",
        "###Ejercicio 1: Uso de arreglos\n",
        "<ul>\n",
        "  <li>Escriba un método generar(n) que genere un arreglo de tamaño n con todos sus elementos aleatorios entre 1 y 100.</li>\n",
        "</ul>"
      ],
      "metadata": {
        "id": "mapqDEUuE0RH"
      }
    },
    {
      "cell_type": "code",
      "execution_count": null,
      "metadata": {
        "id": "OXkR_LTgEudo"
      },
      "outputs": [],
      "source": [
        "import random \n",
        "def generar(n):\n",
        "  arr = []\n",
        "  for i in range(n):\n",
        "    arr.append(random.randint(1,100))\n",
        "  print(arr)\n",
        "\n",
        "n = int(input(\"Ingrese el tamaño del arreglo: \"))\n",
        "generar(n)\n",
        "\n"
      ]
    },
    {
      "cell_type": "markdown",
      "source": [
        "<ul>\n",
        "  <li>Escriba un método mostrar(int[]t) que muestra todos los elementos de un arreglo t.</li>\n",
        "</ul>\n",
        "\n",
        "\n",
        "\n"
      ],
      "metadata": {
        "id": "Tu4ote8zH_LY"
      }
    },
    {
      "cell_type": "code",
      "source": [
        "import random \n",
        "def generar(n):\n",
        "  arr = []\n",
        "  for i in range(n):\n",
        "    arr.append(random.randint(1,100))\n",
        "  mostrar(arr)\n",
        "\n",
        "def mostrar(arr):\n",
        "  for elemento in arr:\n",
        "    print (elemento)\n",
        "\n",
        "n = int(input(\"Ingrese el tamaño del arreglo: \"))\n",
        "generar(n)\n"
      ],
      "metadata": {
        "id": "6cna2xUEIRGM"
      },
      "execution_count": null,
      "outputs": []
    },
    {
      "cell_type": "markdown",
      "source": [
        "<ul>\n",
        "  <li>Escriba un método reversa(int[] t) que invierte el orden de todos los elementos de un arreglo t (sin crear arreglos auxiliares)</li>\n",
        "</ul>"
      ],
      "metadata": {
        "id": "_AlGZAhdKb6i"
      }
    },
    {
      "cell_type": "code",
      "source": [
        "import random \n",
        "def generar(n):\n",
        "  arr = []\n",
        "  for i in range(n):\n",
        "    arr.append(random.randint(1,100))\n",
        "  print(arr)\n",
        "  reversa(arr)\n",
        "\n",
        "def reversa(arr):\n",
        "  print(arr[::-1])\n",
        "\n",
        "n = int(input(\"Ingrese el tamaño del arreglo: \"))\n",
        "generar(n)\n",
        "\n",
        "\n"
      ],
      "metadata": {
        "id": "xiYKQzHgOH9O"
      },
      "execution_count": null,
      "outputs": []
    },
    {
      "cell_type": "markdown",
      "source": [
        "<ul>\n",
        "  <li>Escriba un método int minArreglo(int[] t) que devuelve el elemento más pequeño de un arreglo</li>\n",
        "</ul>"
      ],
      "metadata": {
        "id": "sYfVB4M_kwAS"
      }
    },
    {
      "cell_type": "code",
      "source": [
        "import random \n",
        "def generar(n):\n",
        "  arr = []\n",
        "  for i in range(n):\n",
        "    arr.append(random.randint(1,100))\n",
        "  print(arr)\n",
        "  print(minArreglo(arr))\n",
        "\n",
        "def minArreglo(arr): \n",
        "  if len(arr) == 0:\n",
        "    return None\n",
        "  menor = arr[0]\n",
        "  for num in arr: \n",
        "    if num < menor:\n",
        "      menor = num\n",
        "  return menor\n",
        "\n",
        "n = int(input(\"Ingrese el tamaño del arreglo: \"))\n",
        "generar(n)\n",
        "\n",
        "\n"
      ],
      "metadata": {
        "id": "mi2GSiJZlJsa"
      },
      "execution_count": null,
      "outputs": []
    },
    {
      "cell_type": "markdown",
      "source": [
        "<ul>\n",
        "  <li>Escriba un método int mediaArreglo(int [] t) que devuelve la media aritmética de los elementos de un arreglo</li>\n",
        "</ul>"
      ],
      "metadata": {
        "id": "RYrtCjKQm-Lp"
      }
    },
    {
      "cell_type": "code",
      "source": [
        "import random \n",
        "def generar(n):\n",
        "  arr = []\n",
        "  for i in range(n):\n",
        "    arr.append(random.randint(1,100))\n",
        "  print(arr)\n",
        "  mediaArreglo(arr)\n",
        "\n",
        "def mediaArreglo(arr):\n",
        "  if len(arr) == 0:\n",
        "    return None\n",
        "  suma = 0 \n",
        "  for i in arr: \n",
        "    suma += i\n",
        "  print(suma/len(arr))\n",
        "\n",
        "n = int(input(\"Ingrese el tamaño del arreglo: \"))\n",
        "generar(n)"
      ],
      "metadata": {
        "id": "cYfqzXYDnQee"
      },
      "execution_count": null,
      "outputs": []
    },
    {
      "cell_type": "markdown",
      "source": [
        "<ul>\n",
        "  <li>Escriba un método int[] ocurrencias(int[] t) que devuelve un nuevo arrelgo s tal que s[i] es el número de veces que el entero i aparece en t.</li>\n",
        "</ul>"
      ],
      "metadata": {
        "id": "Svrckn_elImM"
      }
    },
    {
      "cell_type": "code",
      "source": [
        "import random \n",
        "def generar(n):\n",
        "  arr = []\n",
        "  for i in range(n):\n",
        "    arr.append(random.randint(1,100))\n",
        "  print(arr)\n",
        "  ocurrencias(arr)\n",
        "\n",
        "\n",
        "\n",
        "def ocurrencias(arr):\n",
        "  n2 = int(input(\"En el arreglo de que numero quiere saber sus ocurrencias: \"))\n",
        "  arr2 = []\n",
        "  for i in arr:\n",
        "    if i == n2: \n",
        "      arr2.append(i)\n",
        "  print(arr2)\n",
        "  print('El numero {} aparece {} veces'.format(n2, len(arr2)))\n",
        "\n",
        "\n",
        "n = int(input(\"Ingrese el tamaño del arreglo: \"))\n",
        "generar(n)\n",
        "  "
      ],
      "metadata": {
        "id": "b-28QZSao_JK"
      },
      "execution_count": null,
      "outputs": []
    },
    {
      "cell_type": "markdown",
      "source": [
        "###Ejercicio 2: Uso de arreglos\n",
        "<ul>\n",
        "  <li>Cree un arreglo de 100 enteros\n",
        "</ul>\n"
      ],
      "metadata": {
        "id": "oGAPkpxHo_nb"
      }
    },
    {
      "cell_type": "code",
      "source": [
        "arr = list(range(1,101))\n",
        "print(arr)"
      ],
      "metadata": {
        "id": "2L37GQhFtQ3G"
      },
      "execution_count": null,
      "outputs": []
    },
    {
      "cell_type": "markdown",
      "source": [
        "<ul>\n",
        "  <li> Inicialice el arreglo de forma que la casilla i contenga el entero i</li>\n",
        "</ul>"
      ],
      "metadata": {
        "id": "cLET9nNUt_OU"
      }
    },
    {
      "cell_type": "code",
      "source": [
        "arr = [0]*10\n",
        "for i in range(10):\n",
        "  arr[i] = i\n",
        "print(arr)"
      ],
      "metadata": {
        "id": "PPimzrHSuJ-t"
      },
      "execution_count": null,
      "outputs": []
    },
    {
      "cell_type": "markdown",
      "source": [
        "<ul>\n",
        "  <li>Muestre el arreglo</li>\n",
        "</ul>"
      ],
      "metadata": {
        "id": "SQ75Qp3puKsl"
      }
    },
    {
      "cell_type": "code",
      "source": [
        "arr = [0]*100\n",
        "for i in range(100):\n",
        "  arr[i] = i\n",
        "print(arr)"
      ],
      "metadata": {
        "colab": {
          "base_uri": "https://localhost:8080/"
        },
        "id": "iyeFH6Yfv1l1",
        "outputId": "f0a94980-2678-41aa-cab9-9378b5b58754"
      },
      "execution_count": null,
      "outputs": [
        {
          "output_type": "stream",
          "name": "stdout",
          "text": [
            "[0, 1, 2, 3, 4, 5, 6, 7, 8, 9, 10, 11, 12, 13, 14, 15, 16, 17, 18, 19, 20, 21, 22, 23, 24, 25, 26, 27, 28, 29, 30, 31, 32, 33, 34, 35, 36, 37, 38, 39, 40, 41, 42, 43, 44, 45, 46, 47, 48, 49, 50, 51, 52, 53, 54, 55, 56, 57, 58, 59, 60, 61, 62, 63, 64, 65, 66, 67, 68, 69, 70, 71, 72, 73, 74, 75, 76, 77, 78, 79, 80, 81, 82, 83, 84, 85, 86, 87, 88, 89, 90, 91, 92, 93, 94, 95, 96, 97, 98, 99]\n"
          ]
        }
      ]
    },
    {
      "cell_type": "markdown",
      "source": [
        "<ul>\n",
        "  <li>Analice la complejidad de este algoritmo</li>\n",
        "</ul>"
      ],
      "metadata": {
        "id": "NlJs857wv1-I"
      }
    },
    {
      "cell_type": "markdown",
      "source": [
        "###Ejercicio 3: Sudoku\n",
        "<ul>\n",
        "  <li>Escriba un programa que pide al usuario de entrar una grilla de sudoku completamente llena y verifique que esta grilla es correcta.</li>\n",
        "</ul>"
      ],
      "metadata": {
        "id": "LEzJSnK_wZJz"
      }
    },
    {
      "cell_type": "code",
      "source": [
        "def comprobarSudoku(grilla):\n",
        "  for fila in grilla:\n",
        "    if set(fila) !=set(range(1,10)):\n",
        "      return False\n",
        "\n",
        "  for columnas in range(9):\n",
        "    if set([grilla[f][columnas] for f in range(9)]) != set(range(1,10)):\n",
        "      return False\n",
        "\n",
        "  for i in range(0,9,3):\n",
        "    for j in range(0,9,3):\n",
        "      if set (grilla[i][j:j+3] + grilla[i+1][j:j+3] + grilla[i+2][j:j+3]) != set(range(1,10)):\n",
        "        return False\n",
        "  return True\n",
        "\n",
        "print(\"Ingrese una grilla de Sudoku: \")\n",
        "grilla = []\n",
        "for i in range(9):\n",
        "  fila = list(map(int, input().split()))\n",
        "  grilla.append(fila)\n",
        "\n",
        "if comprobarSudoku(grilla):\n",
        "  print(\"La grilla es correcta.\")\n",
        "else: \n",
        "  print(\"La grilla es incorrecta.\")"
      ],
      "metadata": {
        "id": "QYXSLWCXwzBY"
      },
      "execution_count": null,
      "outputs": []
    },
    {
      "cell_type": "markdown",
      "source": [
        "###Ejercicio 4: Criba de Eratóstenes\n",
        "<ul>\n",
        "  <li> La criba de Eratóstenes es un algoritmo que permite hallar todos los números primos menores que un número natural dado N.\n",
        "  El algoritmo procede por eliminación: se trata de suprimir de un arreglo todos múltiplos de los de 2 a N. Comenzamos con los múltiplos de 2, luego cada vez tachamos los múltiplos del enteros más pequeño restante hasta que el cuadrado de este sea mayor que el entero más grande en la lista. Podemos detenernos cuando el cuadrado del número entero más pequeño es más pequeño que el entero más grande, porque en este caso, si hubiera no primos, ya habrían sido rayados.\n",
        "\n",
        "Al final del proceso, todos los enteros que no se han rayado son números primos menores que N. Implemente la función int numeros_primos(int n) que cuenta el número de números primos menores que n usando la criba de Eratóstenes. "
      ],
      "metadata": {
        "id": "WhnbU2mK6hNm"
      }
    },
    {
      "cell_type": "code",
      "source": [
        "def numerosPrimos(n):\n",
        "  primo = [True]* (n+1)\n",
        "\n",
        "  primo[0] = False\n",
        "  primo[1] = False\n",
        "\n",
        "  for i in range(2, int(n**0.5)+1):\n",
        "    if primo[i]:                                                                                                            \n",
        "      for j in range(i*i, n+1, i):\n",
        "        primo[j] = False\n",
        "\n",
        "  for i in range(0,n+1):\n",
        "    if(primo[i] == True):\n",
        "      print(i)\n",
        "\n",
        "  cantidadPrimos = sum(primo)\n",
        "\n",
        "  return cantidadPrimos \n",
        "\n",
        "print(numerosPrimos(20))"
      ],
      "metadata": {
        "colab": {
          "base_uri": "https://localhost:8080/"
        },
        "id": "ADbDcvJw8TXQ",
        "outputId": "3a1d1f91-6046-42be-ca9f-f6ac2e3e7457"
      },
      "execution_count": null,
      "outputs": [
        {
          "output_type": "stream",
          "name": "stdout",
          "text": [
            "2\n",
            "3\n",
            "5\n",
            "7\n",
            "11\n",
            "13\n",
            "17\n",
            "19\n",
            "8\n"
          ]
        }
      ]
    }
  ]
}