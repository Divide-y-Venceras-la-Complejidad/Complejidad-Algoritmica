{
  "nbformat": 4,
  "nbformat_minor": 0,
  "metadata": {
    "colab": {
      "provenance": [],
      "authorship_tag": "ABX9TyPWNiEy/Xei9EDJRpZBXGee",
      "include_colab_link": true
    },
    "kernelspec": {
      "name": "python3",
      "display_name": "Python 3"
    },
    "language_info": {
      "name": "python"
    }
  },
  "cells": [
    {
      "cell_type": "markdown",
      "metadata": {
        "id": "view-in-github",
        "colab_type": "text"
      },
      "source": [
        "<a href=\"https://colab.research.google.com/github/Divide-y-Venceras-la-Complejidad/Complejidad-Algoritmica/blob/semana-3/Actividad_Week_3.ipynb\" target=\"_parent\"><img src=\"https://colab.research.google.com/assets/colab-badge.svg\" alt=\"Open In Colab\"/></a>"
      ]
    },
    {
      "cell_type": "code",
      "execution_count": 2,
      "metadata": {
        "id": "iwSTL7zdi63f"
      },
      "outputs": [],
      "source": [
        "texto=\"Lorem ipsum dolor sit amet, consectetur adipiscing elit. Nam arcu arcu, euismod mollis rhoncus quis, egestas at leo. Maecenas luctus neque nulla, vel imperdiet lacus ultrices vel. Mauris eget eros vel lacus molestie blandit.\"\n"
      ]
    },
    {
      "cell_type": "code",
      "source": [
        "arreglo = texto.split()"
      ],
      "metadata": {
        "id": "pNIC8QDtnnuZ"
      },
      "execution_count": 65,
      "outputs": []
    },
    {
      "cell_type": "code",
      "source": [
        "def contador_palabras(arr, pos_i, pos_f):\n",
        "  #Condición de fin\n",
        "  total = 0\n",
        "  if  pos_i == pos_f:\n",
        "    return 1\n",
        "  else:\n",
        "    #Divide\n",
        "    med = (pos_i + pos_f) // 2    \n",
        "    #Conquista\n",
        "    cont_izq = contador_palabras(arr, pos_i, med)\n",
        "    cont_der = contador_palabras(arr, med+1, pos_f)\n",
        "    #Combina\n",
        "    total = cont_izq + cont_der\n",
        "    return total"
      ],
      "metadata": {
        "id": "BOjl2Wd0oPL5"
      },
      "execution_count": 69,
      "outputs": []
    },
    {
      "cell_type": "code",
      "source": [
        "print(contador_palabras(arreglo, 0, len(arreglo) - 1))"
      ],
      "metadata": {
        "colab": {
          "base_uri": "https://localhost:8080/"
        },
        "id": "Ebpwds2orE0f",
        "outputId": "27cbae32-42cd-40fa-e740-d6c65fa45e93"
      },
      "execution_count": 70,
      "outputs": [
        {
          "output_type": "stream",
          "name": "stdout",
          "text": [
            "34\n"
          ]
        }
      ]
    }
  ]
}