{
  "nbformat": 4,
  "nbformat_minor": 0,
  "metadata": {
    "colab": {
      "provenance": [],
      "authorship_tag": "ABX9TyMZ02UadnYNAwEHh0adylOu",
      "include_colab_link": true
    },
    "kernelspec": {
      "name": "python3",
      "display_name": "Python 3"
    },
    "language_info": {
      "name": "python"
    }
  },
  "cells": [
    {
      "cell_type": "markdown",
      "metadata": {
        "id": "view-in-github",
        "colab_type": "text"
      },
      "source": [
        "<a href=\"https://colab.research.google.com/github/Divide-y-Venceras-la-Complejidad/Complejidad-Algoritmica/blob/trabajo-parcial/Intento%201-TP.ipynb\" target=\"_parent\"><img src=\"https://colab.research.google.com/assets/colab-badge.svg\" alt=\"Open In Colab\"/></a>"
      ]
    },
    {
      "cell_type": "markdown",
      "source": [
        "Ponderación = Genero + artista + bailabilidad + energia de la musica + "
      ],
      "metadata": {
        "id": "H1coQj0EAIPs"
      }
    },
    {
      "cell_type": "code",
      "execution_count": null,
      "metadata": {
        "colab": {
          "base_uri": "https://localhost:8080/"
        },
        "id": "m1TwweqTAGJj",
        "outputId": "f6350eed-c874-4aa5-e4e3-217331211502"
      },
      "outputs": [
        {
          "output_type": "stream",
          "name": "stdout",
          "text": [
            "Overwriting dataset.csv\n"
          ]
        }
      ],
      "source": [
        "%%file dataset.csv\n",
        "id, name, genero, artista,  topico, año\n",
        "1, Lala, Regeton, MyKeTowers, verano, 2023\n",
        "2, Adan y Eva, Urbano, Paulo Londra, Tristeza, 2020 \n",
        "3, Necesito otro beso, Pop, Rosalia, Trizteza, 2023\n",
        "4, Todo de ti, Urbano, Pop, Raw, Alegria, 2022\n",
        "5, Caprichoso, Urbano, Pop, Raw, Tristeza, 2023\n",
        "6, TQG, Trap, Karol G, Despecho, 2023\n",
        "7, Chulo, Urbano, Bad Bunny, Despecho, 2023\n",
        "8, Charapita, Cumbia, Los Yenis, Tristeza, 2007\n",
        "9, El idiota, Cumbia, Principe Acollino, Tristeza, 2009\n",
        "10, Detective, Regeton, MykeTowers, verano, 2019"
      ]
    },
    {
      "cell_type": "code",
      "source": [
        "class Music:\n",
        "  def __init__(self, id, name, genero, artista, topico, year):\n",
        "    self.id = id\n",
        "    self.name = name\n",
        "    self.genero = genero\n",
        "    self.artista = artista\n",
        "    self.topico = topico\n",
        "    self.year = year"
      ],
      "metadata": {
        "id": "8YWePrt9viLN"
      },
      "execution_count": 32,
      "outputs": []
    },
    {
      "cell_type": "code",
      "source": [
        "lst = []\n",
        "with open(\"dataset.csv\") as f:\n",
        "  line1 = f.readline()\n",
        "  for line in f:\n",
        "    line = line.split(\",\")\n",
        "    music = Music(line[0], line[1], line[2], line[3], line[4], line[5])\n",
        "    lst.append(music)"
      ],
      "metadata": {
        "id": "8WsoaZ1Y2mR0"
      },
      "execution_count": null,
      "outputs": []
    },
    {
      "cell_type": "code",
      "source": [
        "for i in lst:\n",
        "  print(i.name)"
      ],
      "metadata": {
        "colab": {
          "base_uri": "https://localhost:8080/"
        },
        "id": "qPMGbxgS7Ozd",
        "outputId": "795b7df9-6e4b-4348-8955-74165a250eb8"
      },
      "execution_count": null,
      "outputs": [
        {
          "output_type": "stream",
          "name": "stdout",
          "text": [
            " Lala\n",
            " Adan y Eva\n",
            " Necesito otro beso\n",
            " Todo de ti\n",
            " Caprichoso\n",
            " TQG\n",
            " Chulo\n",
            " Charapita\n",
            " El idiota\n",
            " Detective\n"
          ]
        }
      ]
    },
    {
      "cell_type": "code",
      "source": [
        "arch = open(\"matriz.txt\", \"w\")\n",
        "\n",
        "for i in lst:\n",
        "  for j in lst:\n",
        "    point = 0\n",
        "    if i.genero == j.genero:\n",
        "      point +=2\n",
        "    if i.artista == j.artista:\n",
        "      point +=3\n",
        "    if i.topico == j.topico:\n",
        "      point +=5\n",
        "    arch.write(f\"{point} \")\n",
        "  arch.write(\"\\n\")\n",
        "arch.close()"
      ],
      "metadata": {
        "id": "ixJ6BIcQHyf9"
      },
      "execution_count": 50,
      "outputs": []
    },
    {
      "cell_type": "code",
      "source": [
        "with open(\"matriz.txt\") as fil:\n",
        "  for line in fil:\n",
        "    print(line)"
      ],
      "metadata": {
        "colab": {
          "base_uri": "https://localhost:8080/"
        },
        "id": "MIJ0OChSLf-K",
        "outputId": "81622598-7eef-435c-952e-15af52da2086"
      },
      "execution_count": 51,
      "outputs": [
        {
          "output_type": "stream",
          "name": "stdout",
          "text": [
            "10 0 0 0 0 0 0 0 0 7 \n",
            "\n",
            "0 10 0 2 2 0 2 5 5 0 \n",
            "\n",
            "0 0 10 0 0 0 0 0 0 0 \n",
            "\n",
            "0 2 0 10 10 0 2 0 0 0 \n",
            "\n",
            "0 2 0 10 10 0 2 0 0 0 \n",
            "\n",
            "0 0 0 0 0 10 5 0 0 0 \n",
            "\n",
            "0 2 0 2 2 5 10 0 0 0 \n",
            "\n",
            "0 5 0 0 0 0 0 10 7 0 \n",
            "\n",
            "0 5 0 0 0 0 0 7 10 0 \n",
            "\n",
            "7 0 0 0 0 0 0 0 0 10 \n",
            "\n"
          ]
        }
      ]
    },
    {
      "cell_type": "code",
      "source": [
        "import pandas as pd\n",
        "import networkx as nx\n",
        "\n",
        "# Cargar el dataset de canciones de Spotify\n",
        "df = pd.read_csv(\"songs.csv\")\n",
        "\n",
        "# Crear el grafo vacío\n",
        "G = nx.DiGraph()\n",
        "\n",
        "# Agregar nodos al grafo para cada canción\n",
        "for i, row in df.iterrows():\n",
        "    G.add_node(row[\"Track Name\"])\n",
        "\n",
        "# Agregar aristas al grafo basadas en si comparten el mismo artista o año de lanzamiento\n",
        "for i, row in df.iterrows():\n",
        "    artist = row[\"Artist Name\"]\n",
        "    year = row[\"Year\"]\n",
        "    songs_by_artist = df[df[\"Artist Name\"] == artist][\"Track Name\"].tolist()\n",
        "    songs_by_year = df[df[\"Year\"] == year][\"Track Name\"].tolist()\n",
        "    for song in songs_by_artist:\n",
        "        if song != row[\"Track Name\"]:\n",
        "            G.add_edge(row[\"Track Name\"], song, weight=1)\n",
        "    for song in songs_by_year:\n",
        "        if song != row[\"Track Name\"]:\n",
        "            G.add_edge(row[\"Track Name\"], song, weight=1)\n",
        "\n",
        "# Visualizar el grafo\n",
        "nx.draw(G, with_labels=True)"
      ],
      "metadata": {
        "id": "jLn8pj9fGckk"
      },
      "execution_count": null,
      "outputs": []
    }
  ]
}